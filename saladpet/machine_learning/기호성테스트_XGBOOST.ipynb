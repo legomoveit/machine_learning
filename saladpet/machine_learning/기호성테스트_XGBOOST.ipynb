{
 "cells": [
  {
   "cell_type": "code",
   "execution_count": 2,
   "metadata": {},
   "outputs": [],
   "source": [
    "import pandas as pd \n",
    "import pymysql \n",
    "import pymysql.cursors\n",
    "import numpy as np\n",
    "from scipy.stats import chisquare\n",
    "from scipy import stats\n",
    "import scipy as sp\n",
    "import statsmodels.api as sm\n",
    "from statsmodels.formula.api import ols, logit, glm\n",
    "import seaborn as sns\n",
    "import numpy as np\n",
    "from sklearn.linear_model import LinearRegression\n",
    "import statsmodels.formula.api as smf\n",
    "import matplotlib.pyplot as plt\n",
    "import matplotlib.font_manager as fm\n",
    "#-------------------------------------\n",
    "from sklearn.neighbors import KNeighborsRegressor\n",
    "#-------------------------------------\n",
    "from sklearn.tree import DecisionTreeRegressor\n",
    "#-------------------------------------\n",
    "from sklearn.preprocessing import StandardScaler\n",
    "#-------------------------------------\n",
    "from sklearn.model_selection import train_test_split\n",
    "#-------------------------------------\n",
    "from imblearn.over_sampling import SMOTE\n",
    "\n",
    "import numpy as np\n",
    "import pandas as pd\n",
    "\n",
    "from sklearn.datasets import make_classification\n",
    "from collections import Counter\n",
    "\n",
    "from matplotlib import pyplot as plt\n",
    "import seaborn as sns\n",
    "\n",
    "from imblearn.under_sampling import RandomUnderSampler\n",
    "from imblearn.over_sampling import RandomOverSampler\n",
    "from imblearn.over_sampling import SMOTE\n",
    "\n",
    "#--------------------------\n",
    "from sklearn.svm import SVR"
   ]
  },
  {
   "cell_type": "code",
   "execution_count": 9,
   "metadata": {},
   "outputs": [],
   "source": [
    "import os\n",
    "os.environ[\"PATH\"]+=os.pathsep+'C:/Program Files/Graphviz/bin/'"
   ]
  },
  {
   "cell_type": "code",
   "execution_count": 10,
   "metadata": {},
   "outputs": [],
   "source": [
    "import matplotlib.pyplot as plt\n",
    "from sklearn.datasets import load_iris\n",
    "from sklearn.datasets import load_breast_cancer\n",
    "from sklearn.tree import DecisionTreeClassifier\n",
    "from sklearn.ensemble import RandomForestClassifier\n",
    "from sklearn.model_selection import train_test_split\n",
    "import pandas as pd\n",
    "import numpy as np\n",
    "from sklearn import tree\n",
    "\n",
    "#---------\n",
    "import xgboost as xgb\n",
    "from xgboost import XGBRegressor, XGBClassifier\n",
    "from xgboost import plot_importance, plot_tree\n",
    "\n",
    "import graphviz\n",
    "import matplotlib.pyplot as plt\n",
    "plt.style.use(['seaborn-whitegrid'])"
   ]
  },
  {
   "cell_type": "code",
   "execution_count": 3,
   "metadata": {},
   "outputs": [],
   "source": [
    "test_result = pd.read_excel(\"c:\\import\\gihosung\\s_0124_testresult.xlsx\",sheet_name = 'result')\n",
    "test_result2 = pd.read_excel(\"c:\\import\\gihosung\\s_0124_testresult.xlsx\",sheet_name = 'result2') #빅독제외\n",
    "test_result_cat = pd.read_excel(\"c:\\import\\gihosung\\s_0124_testresult.xlsx\",sheet_name = 'result_cat')"
   ]
  },
  {
   "cell_type": "code",
   "execution_count": 5,
   "metadata": {},
   "outputs": [],
   "source": [
    "df = test_result2\n",
    "\n",
    "x = df[['p_cow' , 'p_chicken' , 'p_fish' , 'p_turkey' ,'p_pig', 'p_sheep' ,'p_salmon', 'p_tuna'  ,'p_insect', 'o_chicken' , 'o_fish' ]]\n",
    "y = df[['하솜']]\n",
    "feature_list = ['p_cow' , 'p_chicken' , 'p_fish' , 'p_turkey' ,'p_pig', 'p_sheep' ,  'p_salmon' , 'p_tuna'  ,'p_insect', 'o_chicken' , 'o_fish' ]\n",
    "######\n",
    "# x2 = df[['p_cow' , 'p_chicken' , 'p_fish' , 'p_turkey' ,'p_pig', 'p_sheep' ,'p_salmon', 'p_tuna'  ,'p_insect', 'o_chicken' , 'o_fish' ,'n_fat','n_protein']]\n",
    "# y2 = df[['뚜뚜_37']]\n",
    "# feature_list2 = ['p_cow' , 'p_chicken' , 'p_fish' , 'p_turkey' ,'p_pig', 'p_sheep' ,  'p_salmon' , 'p_tuna'  ,'p_insect', 'o_chicken' , 'o_fish' ,'n_fat','n_protein']"
   ]
  },
  {
   "cell_type": "code",
   "execution_count": 27,
   "metadata": {},
   "outputs": [
    {
     "data": {
      "text/plain": [
       "XGBRegressor(base_score=0.5, booster='gbtree', colsample_bylevel=1,\n",
       "             colsample_bynode=1, colsample_bytree=1, enable_categorical=False,\n",
       "             gamma=0, gpu_id=-1, importance_type=None,\n",
       "             interaction_constraints='', learning_rate=0.300000012,\n",
       "             max_delta_step=0, max_depth=6, min_child_weight=1, missing=nan,\n",
       "             monotone_constraints='()', n_estimators=100, n_jobs=8,\n",
       "             num_parallel_tree=1, predictor='auto', random_state=0, reg_alpha=0,\n",
       "             reg_lambda=1, scale_pos_weight=1, subsample=1, tree_method='exact',\n",
       "             validate_parameters=1, verbosity=None)"
      ]
     },
     "execution_count": 27,
     "metadata": {},
     "output_type": "execute_result"
    }
   ],
   "source": [
    "xgb_model = xgb.XGBRegressor(booster = 'gbtree', )\n",
    "xgb_model.fit(x,y)\n",
    "\n",
    "# n_estimators=100, learning_rate=0.08, gamma=0, subsample=0.75,\n",
    "#                            colsample_bytree=0.5, max_depth=6, min_child_weight = 1\n"
   ]
  },
  {
   "cell_type": "code",
   "execution_count": 29,
   "metadata": {},
   "outputs": [
    {
     "data": {
      "image/png": "[encoded data removed]",
      "text/plain": [
       "<Figure size 3600x720 with 1 Axes>"
      ]
     },
     "metadata": {},
     "output_type": "display_data"
    }
   ],
   "source": [
    "import matplotlib.pyplot as plt \n",
    "# xgb.plot_tree(xgb_model) \n",
    "\n",
    "# plt.show()\n",
    "\n",
    "# plot single tree\n",
    "plot_tree(xgb_model)\n",
    "plt.show()\n"
   ]
  },
  {
   "cell_type": "code",
   "execution_count": 28,
   "metadata": {},
   "outputs": [
    {
     "name": "stdout",
     "output_type": "stream",
     "text": [
      "0.9999999942599322\n"
     ]
    }
   ],
   "source": [
    "r_sq = xgb_model.score(x, y)\n",
    "print(r_sq)"
   ]
  }
 ],
 "metadata": {
  "interpreter": {
   "hash": "cf71a6bc6049b8bef4ba42f78bb92433b54a62d68f65b768e5c2169dc44a9df9"
  },
  "kernelspec": {
   "display_name": "Python 3.9.6 64-bit",
   "language": "python",
   "name": "python3"
  },
  "language_info": {
   "codemirror_mode": {
    "name": "ipython",
    "version": 3
   },
   "file_extension": ".py",
   "mimetype": "text/x-python",
   "name": "python",
   "nbconvert_exporter": "python",
   "pygments_lexer": "ipython3",
   "version": "3.9.6"
  },
  "orig_nbformat": 4
 },
 "nbformat": 4,
 "nbformat_minor": 2
}
