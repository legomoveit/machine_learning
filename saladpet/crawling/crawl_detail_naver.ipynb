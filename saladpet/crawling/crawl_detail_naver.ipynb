{
 "cells": [
  {
   "cell_type": "code",
   "execution_count": 1,
   "metadata": {},
   "outputs": [],
   "source": [
    "import database_connected_naver as dcn\n",
    "import time, random\n",
    "from selenium import webdriver\n",
    "from selenium.common.exceptions import NoSuchElementException\n",
    "\n",
    "def get_ext2(detail_price, ext1):\n",
    "    if 'kg' in ext1:\n",
    "        hund_price = float(detail_price.replace(',', ''))\n",
    "        weight = float(ext1.replace('kg', ''))\n",
    "        weight = weight * 1000\n",
    "        return str(int(hund_price / weight * 1000))\n",
    "    elif 'g' in ext1:\n",
    "        hund_price = float(detail_price.replace(',', ''))\n",
    "        weight = float(ext1.replace('g', ''))\n",
    "        return str(int(hund_price / weight * 1000))\n",
    "    return ''\n",
    "driver = webdriver.Chrome('./chromedriver')\n",
    "driver.implicitly_wait(2)"
   ]
  },
  {
   "cell_type": "code",
   "execution_count": null,
   "metadata": {},
   "outputs": [],
   "source": [
    "page = 2100\n",
    "pagelimit = 700\n",
    "temp_list = dcn.select_data({'page': page, 'pagelimit': pagelimit})\n",
    "for temp in temp_list:\n",
    "    parent_pcode = temp[0]\n",
    "    driver.get(f'https://search.shopping.naver.com/catalog/{parent_pcode}')\n",
    "    time.sleep(random.randint(1, 2))\n",
    "    try:\n",
    "         style_detail = driver.find_element_by_css_selector('div[class^=\"style_detail\"]')\n",
    "    except NoSuchElementException:\n",
    "        continue\n",
    "    ext_list = style_detail.find_elements_by_css_selector('div[class^=\"filter_condition_group\"] > ul > li')\n",
    "\n",
    "    for i, ext in enumerate(ext_list):\n",
    "        detail_price = ext.find_element_by_css_selector('span[class^=\"filter_price\"]').text\n",
    "        detail_price = detail_price.replace('모바일', '')\n",
    "        detail_price = detail_price.replace('원', '')\n",
    "        detail_price = detail_price.replace(',','')\n",
    "        ext1 = ext.find_element_by_css_selector('span[class^=\"filter_text\"]').text\n",
    "        ext2 = get_ext2(detail_price, ext1)\n",
    "        pcode = str(parent_pcode)+'-'+ext1\n",
    "        dcn.push_prod_data_detail({\n",
    "            'parent_pcode': parent_pcode,\n",
    "            'pcode': pcode,\n",
    "            'price': detail_price,\n",
    "            'weight': ext1,\n",
    "            'price_per_kg': ext2,\n",
    "        })\n",
    "    time.sleep(random.randint(1, 3))"
   ]
  },
  {
   "cell_type": "code",
   "execution_count": 3,
   "metadata": {},
   "outputs": [],
   "source": [
    "driver.quit()"
   ]
  },
  {
   "cell_type": "code",
   "execution_count": null,
   "metadata": {},
   "outputs": [],
   "source": []
  }
 ],
 "metadata": {
  "kernelspec": {
   "display_name": "Python 3.9.4 64-bit",
   "name": "python394jvsc74a57bd0aee8b7b246df8f9039afb4144a1f6fd8d2ca17a180786b69acc140d282b71a49"
  },
  "language_info": {
   "codemirror_mode": {
    "name": "ipython",
    "version": 3
   },
   "file_extension": ".py",
   "mimetype": "text/x-python",
   "name": "python",
   "nbconvert_exporter": "python",
   "pygments_lexer": "ipython3",
   "version": "3.9.4"
  },
  "metadata": {
   "interpreter": {
    "hash": "aee8b7b246df8f9039afb4144a1f6fd8d2ca17a180786b69acc140d282b71a49"
   }
  },
  "orig_nbformat": 2
 },
 "nbformat": 4,
 "nbformat_minor": 2
}
