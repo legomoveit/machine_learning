{
 "cells": [
  {
   "cell_type": "code",
   "execution_count": null,
   "metadata": {},
   "outputs": [],
   "source": [
    "if  (data == 'C31' ) and main_protein_list[i] == 1 and hydrolysis_list[i] ==0 :\n",
    "            p_tuna = 3/main_protein_number + p_tuna\n",
    "            \n",
    "        if (data == 'C31' ) and main_protein_list[i] ==0 and hydrolysis_list[i] ==1 :\n",
    "            p_tuna = p_tuna + 3\n",
    "            \n",
    "        if (data == 'C31' ) and main_protein_list[i] == 1 and hydrolysis_list[i] ==1 :\n",
    "            p_tuna = 3/main_protein_number + p_tuna"
   ]
  }
 ],
 "metadata": {
  "language_info": {
   "name": "python"
  },
  "orig_nbformat": 4
 },
 "nbformat": 4,
 "nbformat_minor": 2
}
