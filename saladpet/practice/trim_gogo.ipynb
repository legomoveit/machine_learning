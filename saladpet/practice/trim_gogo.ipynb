{
 "cells": [
  {
   "cell_type": "code",
   "execution_count": 4,
   "metadata": {},
   "outputs": [
    {
     "name": "stderr",
     "output_type": "stream",
     "text": [
      "C:\\Users\\지상민\\AppData\\Local\\Temp/ipykernel_23248/422268732.py:7: SettingWithCopyWarning: \n",
      "A value is trying to be set on a copy of a slice from a DataFrame\n",
      "\n",
      "See the caveats in the documentation: https://pandas.pydata.org/pandas-docs/stable/user_guide/indexing.html#returning-a-view-versus-a-copy\n",
      "  data['ingred_name'][index] = data['ingred_name'][index].strip()\n"
     ]
    }
   ],
   "source": [
    "import pandas as pd\n",
    "import numpy as np\n",
    "\n",
    "data = pd.read_csv('C:/import/ingred_dict_bridge_1005.csv', header=0)\n",
    "\n",
    "for index, names in enumerate(data['ingred_name'].tolist()) :\n",
    "    data['ingred_name'][index] = data['ingred_name'][index].strip()\n",
    "\n",
    "data.to_csv('C:/import/ingred_dict_bridge_1005_trim.csv',index=False)\n",
    "\n",
    " \n",
    " "
   ]
  }
 ],
 "metadata": {
  "interpreter": {
   "hash": "cf71a6bc6049b8bef4ba42f78bb92433b54a62d68f65b768e5c2169dc44a9df9"
  },
  "kernelspec": {
   "display_name": "Python 3.9.6 64-bit",
   "name": "python3"
  },
  "language_info": {
   "codemirror_mode": {
    "name": "ipython",
    "version": 3
   },
   "file_extension": ".py",
   "mimetype": "text/x-python",
   "name": "python",
   "nbconvert_exporter": "python",
   "pygments_lexer": "ipython3",
   "version": "3.9.6"
  },
  "orig_nbformat": 4
 },
 "nbformat": 4,
 "nbformat_minor": 2
}
