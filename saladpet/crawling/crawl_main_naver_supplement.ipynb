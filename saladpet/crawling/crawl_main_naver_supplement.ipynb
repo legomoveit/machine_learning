{
 "cells": [
  {
   "cell_type": "code",
   "execution_count": 74,
   "source": [
    "import database_connected_naver as dcn\r\n",
    "from selenium import webdriver\r\n",
    "import time\r\n",
    "import random\r\n",
    "import pandas as pd\r\n",
    "\r\n",
    "datas = {}\r\n",
    "\r\n",
    "#checkVirusArea\r\n",
    "\r\n",
    "def scroll_down():  #마지막 element 까지 scroll_down 하는건듯\r\n",
    "    last_ele = driver.find_element_by_css_selector('.list_basis > div > div:last-child') # 마지막 element를 찾는것\r\n",
    "    driver.execute_script('arguments[0].scrollIntoView()', last_ele) #java script함수 (뭔얘기임?)\r\n",
    "    return len(driver.find_elements_by_css_selector('.list_basis > div > div')) #java script 함수\r\n",
    "\r\n",
    "\r\n",
    "def scroll_ready():\r\n",
    "    g_cnt = len(driver.find_elements_by_css_selector('.list_basis > div > div')) #갯수를 센다 (div가 총 몇개인가)\r\n",
    "    while g_cnt < 80: # 갯수 = 정해진 page size로 구성 or site에서 80으로 변경하거나\r\n",
    "        g_cnt = scroll_down() #count가 80보다 클 때 까지 돈다. \r\n",
    "        time.sleep(random.randint(1, 2)) # 1 or 2 중 랜덤하게 가져와서 잠깐 멈추라 \r\n",
    "\r\n",
    "\r\n",
    "def next_page():  # 다음페이지로 가는것\r\n",
    "    try:\r\n",
    "        next_page_button = driver.find_element_by_css_selector('a[class^=\"pagination_next__1ITTf\"]')\r\n",
    "        next_page_button.click()\r\n",
    "    except:\r\n",
    "        return False\r\n",
    "    time.sleep(random.randint(1, 2))\r\n",
    "    return True\r\n",
    "\r\n",
    "driver = webdriver.Chrome('./chromedriver')\r\n",
    "driver.get('https://search.shopping.naver.com/search/category?catId=50006656&frm=NVSHCAT&origQuery&pagingIndex=1&pagingSize=80&productSet=model&query&sort=rel&timestamp=&viewType=list') #pagingindex=1이면 1페이지에 멈춰있음. 이 페이지를 변\r\n",
    "# 페이지 80페이지인지 꼭 확인하자!!! -> 80을 변경하려면 위에 g_cnt도 변경 필요 !\r\n",
    "def db_collect():\r\n",
    "    df = pd.DataFrame()\r\n",
    "    node_list = driver.find_elements_by_css_selector('.list_basis > div > div')\r\n",
    "    for node in node_list:\r\n",
    "        a = node.find_element_by_css_selector('div[class^=\"basicList_price_area\"]')\r\n",
    "        driver.execute_script('arguments[0].scrollIntoView()', a)\r\n",
    "        if '광고' not in a.text:\r\n",
    "            t = node.find_element_by_css_selector('div[class^=\"basicList_title\"] > a')\r\n",
    "            prod_name = t.get_attribute('title')\r\n",
    "            prod_name = prod_name.replace(\"'\", \"\")\r\n",
    "            thumb = ''\r\n",
    "            try:\r\n",
    "                thumb_tag = node.find_element_by_css_selector('a[class^=\"thumbnail_thumb\"] > img')\r\n",
    "                thumb = thumb_tag.get_attribute('src')\r\n",
    "            except:\r\n",
    "                print('thumb err', prod_name)\r\n",
    "            price_temp = a.find_elements_by_css_selector('strong[class^=\"basicList_price\"] > span > span')\r\n",
    "            if len(price_temp) > 0:\r\n",
    "                zzim = node.find_element_by_css_selector('button[class^=\"basicList_btn_zzim\"]')\r\n",
    "                parent_pcode = zzim.get_attribute('data-i')\r\n",
    "                desc = node.find_element_by_css_selector('div[class^=\"basicList_depth\"]').text\r\n",
    "                desc += node.find_element_by_css_selector('div[class^=\"basicList_detail_box\"]').text\r\n",
    "                s1 = {'parent_pcode': parent_pcode,'product_name': prod_name, 'thumb': thumb,'product_desc': desc,'href': 'https://search.shopping.naver.com/catalog/'+parent_pcode }\r\n",
    "                df = df.append(s1, ignore_index= True)\r\n",
    "    df\r\n",
    "#                dcn.push_prod_data_parent({ #dcn의 push_prod_data_parent에 넣어 \r\n",
    "#                     'parent_pcode': parent_pcode,\r\n",
    "#                     'product_name': prod_name,\r\n",
    "#                     'thumb': thumb,\r\n",
    "#                     'product_desc': desc,\r\n",
    "#                     'href': 'https://search.shopping.naver.com/catalog/'+parent_pcode\r\n",
    "#                })\r\n",
    "\r\n",
    "# 강아지 : https://search.shopping.naver.com/search/category?catId=50006630&frm=NVSHMDL&origQuery&pagingIndex=1&pagingSize=80&productSet=model&query&sort=rel&timestamp=&viewType=list\r\n",
    "# 고양이 : https://search.shopping.naver.com/search/category?catId=50006678&frm=NVSHMDL&origQuery&pagingIndex=1&pagingSize=80&productSet=model&query&sort=rel&timestamp=&viewType=list\r\n",
    "\r\n",
    "# 강아지 영양제 : https://search.shopping.naver.com/search/category?catId=50006655&frm=NVSHCAT&origQuery&pagingIndex=1&pagingSize=40&productSet=model&query&sort=rel&timestamp=&viewType=list\r\n",
    "# 강아지 유산균 : https://search.shopping.naver.com/search/category?catId=50006656&frm=NVSHCAT&origQuery&pagingIndex=1&pagingSize=40&productSet=model&query&sort=rel&timestamp=&viewType=list\r\n",
    "# 고양이 영양제 : \r\n",
    "# 고양이 유산균 : "
   ],
   "outputs": [],
   "metadata": {}
  },
  {
   "cell_type": "code",
   "execution_count": 72,
   "source": [
    "go_stop = True\r\n",
    "cnt = 1\r\n",
    "while go_stop:\r\n",
    "    print(cnt)\r\n",
    "    if cnt == 1:\r\n",
    "        scroll_ready()\r\n",
    "    db_collect()\r\n",
    "    scroll_down()\r\n",
    "    go_stop = next_page() \r\n",
    "    cnt += 1"
   ],
   "outputs": [
    {
     "output_type": "stream",
     "name": "stdout",
     "text": [
      "1\n"
     ]
    },
    {
     "output_type": "error",
     "ename": "KeyboardInterrupt",
     "evalue": "",
     "traceback": [
      "\u001b[0;31m---------------------------------------------------------------------------\u001b[0m",
      "\u001b[0;31mKeyboardInterrupt\u001b[0m                         Traceback (most recent call last)",
      "\u001b[0;32m<ipython-input-72-6d48a578d319>\u001b[0m in \u001b[0;36m<module>\u001b[0;34m\u001b[0m\n\u001b[1;32m      4\u001b[0m     \u001b[0mprint\u001b[0m\u001b[0;34m(\u001b[0m\u001b[0mcnt\u001b[0m\u001b[0;34m)\u001b[0m\u001b[0;34m\u001b[0m\u001b[0;34m\u001b[0m\u001b[0m\n\u001b[1;32m      5\u001b[0m     \u001b[0;32mif\u001b[0m \u001b[0mcnt\u001b[0m \u001b[0;34m==\u001b[0m \u001b[0;36m1\u001b[0m\u001b[0;34m:\u001b[0m\u001b[0;34m\u001b[0m\u001b[0;34m\u001b[0m\u001b[0m\n\u001b[0;32m----> 6\u001b[0;31m         \u001b[0mscroll_ready\u001b[0m\u001b[0;34m(\u001b[0m\u001b[0;34m)\u001b[0m\u001b[0;34m\u001b[0m\u001b[0;34m\u001b[0m\u001b[0m\n\u001b[0m\u001b[1;32m      7\u001b[0m     \u001b[0mdb_collect\u001b[0m\u001b[0;34m(\u001b[0m\u001b[0;34m)\u001b[0m\u001b[0;34m\u001b[0m\u001b[0;34m\u001b[0m\u001b[0m\n\u001b[1;32m      8\u001b[0m     \u001b[0mscroll_down\u001b[0m\u001b[0;34m(\u001b[0m\u001b[0;34m)\u001b[0m\u001b[0;34m\u001b[0m\u001b[0;34m\u001b[0m\u001b[0m\n",
      "\u001b[0;32m<ipython-input-69-f43d78966850>\u001b[0m in \u001b[0;36mscroll_ready\u001b[0;34m()\u001b[0m\n\u001b[1;32m     15\u001b[0m     \u001b[0;32mwhile\u001b[0m \u001b[0mg_cnt\u001b[0m \u001b[0;34m<\u001b[0m \u001b[0;36m80\u001b[0m\u001b[0;34m:\u001b[0m \u001b[0;31m# 갯수 = 정해진 page size로 구성 or site에서 80으로 변경하거나\u001b[0m\u001b[0;34m\u001b[0m\u001b[0;34m\u001b[0m\u001b[0m\n\u001b[1;32m     16\u001b[0m         \u001b[0mg_cnt\u001b[0m \u001b[0;34m=\u001b[0m \u001b[0mscroll_down\u001b[0m\u001b[0;34m(\u001b[0m\u001b[0;34m)\u001b[0m \u001b[0;31m#count가 80보다 클 때 까지 돈다.\u001b[0m\u001b[0;34m\u001b[0m\u001b[0;34m\u001b[0m\u001b[0m\n\u001b[0;32m---> 17\u001b[0;31m         \u001b[0mtime\u001b[0m\u001b[0;34m.\u001b[0m\u001b[0msleep\u001b[0m\u001b[0;34m(\u001b[0m\u001b[0mrandom\u001b[0m\u001b[0;34m.\u001b[0m\u001b[0mrandint\u001b[0m\u001b[0;34m(\u001b[0m\u001b[0;36m1\u001b[0m\u001b[0;34m,\u001b[0m \u001b[0;36m2\u001b[0m\u001b[0;34m)\u001b[0m\u001b[0;34m)\u001b[0m \u001b[0;31m# 1 or 2 중 랜덤하게 가져와서 잠깐 멈추라\u001b[0m\u001b[0;34m\u001b[0m\u001b[0;34m\u001b[0m\u001b[0m\n\u001b[0m\u001b[1;32m     18\u001b[0m \u001b[0;32mdef\u001b[0m \u001b[0mnext_page\u001b[0m\u001b[0;34m(\u001b[0m\u001b[0;34m)\u001b[0m\u001b[0;34m:\u001b[0m\u001b[0;34m\u001b[0m\u001b[0;34m\u001b[0m\u001b[0m\n\u001b[1;32m     19\u001b[0m     \u001b[0;32mtry\u001b[0m\u001b[0;34m:\u001b[0m\u001b[0;34m\u001b[0m\u001b[0;34m\u001b[0m\u001b[0m\n",
      "\u001b[0;31mKeyboardInterrupt\u001b[0m: "
     ]
    }
   ],
   "metadata": {
    "tags": []
   }
  },
  {
   "cell_type": "code",
   "execution_count": null,
   "source": [
    "driver.quit()"
   ],
   "outputs": [],
   "metadata": {}
  },
  {
   "cell_type": "markdown",
   "source": [],
   "metadata": {}
  },
  {
   "cell_type": "code",
   "execution_count": 75,
   "source": [
    "db_collect()\r\n",
    "\r\n",
    "print (df)"
   ],
   "outputs": [
    {
     "output_type": "stream",
     "name": "stdout",
     "text": [
      "   기러기   참새\n",
      "0  0.0  1.0\n"
     ]
    }
   ],
   "metadata": {}
  },
  {
   "cell_type": "code",
   "execution_count": 73,
   "source": [
    "df"
   ],
   "outputs": [
    {
     "output_type": "execute_result",
     "data": {
      "text/html": [
       "<div>\n",
       "<style scoped>\n",
       "    .dataframe tbody tr th:only-of-type {\n",
       "        vertical-align: middle;\n",
       "    }\n",
       "\n",
       "    .dataframe tbody tr th {\n",
       "        vertical-align: top;\n",
       "    }\n",
       "\n",
       "    .dataframe thead th {\n",
       "        text-align: right;\n",
       "    }\n",
       "</style>\n",
       "<table border=\"1\" class=\"dataframe\">\n",
       "  <thead>\n",
       "    <tr style=\"text-align: right;\">\n",
       "      <th></th>\n",
       "      <th>기러기</th>\n",
       "      <th>참새</th>\n",
       "    </tr>\n",
       "  </thead>\n",
       "  <tbody>\n",
       "    <tr>\n",
       "      <th>0</th>\n",
       "      <td>0.0</td>\n",
       "      <td>1.0</td>\n",
       "    </tr>\n",
       "  </tbody>\n",
       "</table>\n",
       "</div>"
      ],
      "text/plain": [
       "   기러기   참새\n",
       "0  0.0  1.0"
      ]
     },
     "metadata": {},
     "execution_count": 73
    }
   ],
   "metadata": {}
  }
 ],
 "metadata": {
  "kernelspec": {
   "display_name": "Python 3.9.4 64-bit",
   "name": "python394jvsc74a57bd0aee8b7b246df8f9039afb4144a1f6fd8d2ca17a180786b69acc140d282b71a49"
  },
  "language_info": {
   "codemirror_mode": {
    "name": "ipython",
    "version": 3
   },
   "file_extension": ".py",
   "mimetype": "text/x-python",
   "name": "python",
   "nbconvert_exporter": "python",
   "pygments_lexer": "ipython3",
   "version": "3.9.4"
  },
  "metadata": {
   "interpreter": {
    "hash": "aee8b7b246df8f9039afb4144a1f6fd8d2ca17a180786b69acc140d282b71a49"
   }
  },
  "orig_nbformat": 2
 },
 "nbformat": 4,
 "nbformat_minor": 2
}