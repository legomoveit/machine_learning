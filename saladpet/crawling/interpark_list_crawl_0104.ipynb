{
 "cells": [
  {
   "cell_type": "code",
   "execution_count": 1,
   "metadata": {},
   "outputs": [],
   "source": [
    "import time\n",
    "from selenium import webdriver\n",
    "import re\n",
    "import pandas as pd\n",
    "import time, random\n",
    "from selenium import webdriver\n",
    "from selenium.common.exceptions import NoSuchElementException\n",
    "from selenium.webdriver.common.keys import Keys\n",
    "import pandas as pd\n",
    "###\n",
    "\n",
    "import requests\n",
    "from bs4 import BeautifulSoup"
   ]
  },
  {
   "cell_type": "code",
   "execution_count": 14,
   "metadata": {},
   "outputs": [],
   "source": [
    "driver = webdriver.Chrome('./chromedriver95.exe')\n",
    "\n",
    "result = []\n",
    "driver.get(\"https://www.interpark.com/pet/display.do?_method=initial&catNo=001800001001\")\n",
    "\n",
    "\n",
    "\n",
    "\n",
    "\n",
    "페이지함 = driver.find_element_by_css_selector('span[class=\"pageNum\"]')\n",
    "pages = 페이지함.find_elements_by_css_selector('a')\n",
    "for i in range(len(pages)) :\n",
    "    \n",
    "    if i == 0 :\n",
    "        driver.execute_script(\"window.scrollTo(0, document.body.scrollHeight);\")\n",
    "        time.sleep(random.randint(2, 3))\n",
    "        큰큰박스 = driver.find_element_by_css_selector('div[class=\"listInner productDefault\"]')\n",
    "        제품큰박스 = 큰큰박스.find_elements_by_css_selector('li')\n",
    "        #time.sleep(random.randint(2, 3))\n",
    "        for data in 제품큰박스 :\n",
    "            # pre_image = data.find_elements_by_css_selector('div[class=\"img\"]')\n",
    "            # pr_image = pre_image[0].find_elements_by_css_selector('div[class=\"img\"]')\n",
    "            p_image = data.find_elements_by_css_selector('img')\n",
    "            image = p_image[0].get_attribute(\"src\")\n",
    "            \n",
    "            pre_name = data.find_elements_by_css_selector('div[class=\"productInfo\"]')\n",
    "            name = pre_name[0].find_element_by_css_selector('div[class=\"title\"]').text\n",
    "            \n",
    "            \n",
    "            pre_link = data.find_elements_by_css_selector('a')\n",
    "            link = pre_link[0].get_attribute('href')\n",
    "            \n",
    "            pre_result = [name, image, link]\n",
    "            result.append(pre_result)\n",
    "    \n",
    "    else :\n",
    "        페이지함 = driver.find_element_by_css_selector('span[class=\"pageNum\"]')\n",
    "        pages = 페이지함.find_elements_by_css_selector('a')\n",
    "        time.sleep(random.randint(3,5))\n",
    "        \n",
    "        pages[i].click()\n",
    "        #driver.execute_script(\"window.scrollTo(0, document.body.scrollHeight);\")\n",
    "        time.sleep(random.randint(3,5))\n",
    "    \n",
    "        큰큰박스 = driver.find_element_by_css_selector('div[class=\"listInner productDefault\"]')\n",
    "        제품큰박스 = 큰큰박스.find_elements_by_css_selector('li')\n",
    "        #time.sleep(random.randint(2, 3))\n",
    "        for data in 제품큰박스 :\n",
    "            # pre_image = data.find_elements_by_css_selector('div[class=\"img\"]')\n",
    "            # pr_image = pre_image[0].find_elements_by_css_selector('div[class=\"img\"]')\n",
    "            p_image = data.find_elements_by_css_selector('img')\n",
    "            image = p_image[0].get_attribute(\"src\")\n",
    "            \n",
    "            pre_name = data.find_elements_by_css_selector('div[class=\"productInfo\"]')\n",
    "            name = pre_name[0].find_element_by_css_selector('div[class=\"title\"]').text\n",
    "            \n",
    "            \n",
    "            pre_link = data.find_elements_by_css_selector('a')\n",
    "            link = pre_link[0].get_attribute('href')\n",
    "            \n",
    "            pre_result = [name, image, link]\n",
    "            result.append(pre_result)\n",
    "\n",
    "    \n",
    "driver.quit()\n",
    "\n",
    "    "
   ]
  },
  {
   "cell_type": "code",
   "execution_count": 7,
   "metadata": {},
   "outputs": [
    {
     "data": {
      "text/plain": [
       "[['[유통기한 2022-05-29] 서울우유 아이펫 밀크 180ml X 10개',\n",
       "  'https://openimage.interpark.com/goods_image/1/5/4/0/5142351540s.jpg',\n",
       "  'http://www.interpark.com/product/MallDisplay.do?_method=detail&sc.prdNo=7004271818&sc.shopNo=0000100000&sc.dispNo=001800001001'],\n",
       " ['[10원의체험] 올리브사료 50g 1개 (랜덤발송)',\n",
       "  'https://openimage.interpark.com/goods_image/9/2/2/5/8187549225s.jpg',\n",
       "  'http://www.interpark.com/product/MallDisplay.do?_method=detail&sc.prdNo=8187549225&sc.shopNo=0000100000&sc.dispNo=001800001001'],\n",
       " ['[유통기한 2022-05-29] 서울우유 아이펫 밀크 강아지&고양이 180ml',\n",
       "  'https://openimage.interpark.com/goods_image/6/7/3/7/5142346737s.jpg',\n",
       "  'http://www.interpark.com/product/MallDisplay.do?_method=detail&sc.prdNo=7005111203&sc.shopNo=0000100000&sc.dispNo=001800001001'],\n",
       " ['도그랑 패밀리 진도 강아지사료 10kg',\n",
       "  'https://openimage.interpark.com/goods_image/3/6/5/6/5142303656s.jpg',\n",
       "  'http://www.interpark.com/product/MallDisplay.do?_method=detail&sc.prdNo=5142303656&sc.shopNo=0000100000&sc.dispNo=001800001001'],\n",
       " ['네츄럴코어 베네 M50 큰알갱이 10kg',\n",
       "  'https://openimage.interpark.com/goods_image/9/8/0/4/5142349804s.jpg',\n",
       "  'http://www.interpark.com/product/MallDisplay.do?_method=detail&sc.prdNo=6996949692&sc.shopNo=0000100000&sc.dispNo=001800001001'],\n",
       " ['네츄럴코어 에코6 연어 센시티브솔루션 작은알갱이 35g 강아지사료',\n",
       "  'https://openimage.interpark.com/goods_image/0/5/5/3/5142330553s.jpg',\n",
       "  'http://www.interpark.com/product/MallDisplay.do?_method=detail&sc.prdNo=5142330553&sc.shopNo=0000100000&sc.dispNo=001800001001'],\n",
       " ['도그랑 진도 골드 10kg 강아지사료',\n",
       "  'https://openimage.interpark.com/goods_image/3/8/2/0/5142303820s.jpg',\n",
       "  'http://www.interpark.com/product/MallDisplay.do?_method=detail&sc.prdNo=5142303820&sc.shopNo=0000100000&sc.dispNo=001800001001'],\n",
       " ['네츄럴코어 베네 M50 작은알갱이 10kg',\n",
       "  'https://openimage.interpark.com/goods_image/9/6/6/0/5142329660s.jpg',\n",
       "  'http://www.interpark.com/product/MallDisplay.do?_method=detail&sc.prdNo=5142329660&sc.shopNo=0000100000&sc.dispNo=001800001001'],\n",
       " ['네츄럴코어 에코2 오리고기 작은알갱이 35g 강아지사료',\n",
       "  'https://openimage.interpark.com/goods_image/2/8/5/0/5142342850s.jpg',\n",
       "  'http://www.interpark.com/product/MallDisplay.do?_method=detail&sc.prdNo=5142342850&sc.shopNo=0000100000&sc.dispNo=001800001001'],\n",
       " ['도그랑 클래식 5kg 성견사료',\n",
       "  'https://openimage.interpark.com/goods_image/3/6/5/3/5142303653s.jpg',\n",
       "  'http://www.interpark.com/product/MallDisplay.do?_method=detail&sc.prdNo=5142303653&sc.shopNo=0000100000&sc.dispNo=001800001001'],\n",
       " ['네츄럴코어 베네1 M32 7.2kg 멀티프로테인',\n",
       "  'https://openimage.interpark.com/goods_image/2/9/0/6/5142342906s.jpg',\n",
       "  'http://www.interpark.com/product/MallDisplay.do?_method=detail&sc.prdNo=5142342906&sc.shopNo=0000100000&sc.dispNo=001800001001'],\n",
       " ['GO 고사료 연어 LID 그레인프리 9.98kg',\n",
       "  'https://openimage.interpark.com/goods_image/8/8/5/9/7093898859s.jpg',\n",
       "  'http://www.interpark.com/product/MallDisplay.do?_method=detail&sc.prdNo=7093898859&sc.shopNo=0000100000&sc.dispNo=001800001001'],\n",
       " ['NOW 나우 그레인프리 스몰브리드 어덜트 9.98kg',\n",
       "  'https://openimage.interpark.com/goods_image/4/4/3/0/8228494430s.jpg',\n",
       "  'http://www.interpark.com/product/MallDisplay.do?_method=detail&sc.prdNo=8228494430&sc.shopNo=0000100000&sc.dispNo=001800001001'],\n",
       " ['네츄럴코어 에코9a 시니어 오리&고구마 35g',\n",
       "  'https://openimage.interpark.com/goods_image/0/1/9/9/5142330199s.jpg',\n",
       "  'http://www.interpark.com/product/MallDisplay.do?_method=detail&sc.prdNo=5142330199&sc.shopNo=0000100000&sc.dispNo=001800001001'],\n",
       " ['네츄럴코어 에코 프레스티지2 램&치킨 10kg 양고기 닭고기',\n",
       "  'https://openimage.interpark.com/goods_image/6/6/7/0/7335396670s.jpg',\n",
       "  'http://www.interpark.com/product/MallDisplay.do?_method=detail&sc.prdNo=7335396670&sc.shopNo=0000100000&sc.dispNo=001800001001'],\n",
       " ['네츄럴코어 에코9b 시니어 연어&고구마 35g',\n",
       "  'https://openimage.interpark.com/goods_image/8/5/1/7/5142288517s.jpg',\n",
       "  'http://www.interpark.com/product/MallDisplay.do?_method=detail&sc.prdNo=5142288517&sc.shopNo=0000100000&sc.dispNo=001800001001'],\n",
       " ['[유통기한 2022-05-31] 네츄럴코어 에코5a 퍼피 35g',\n",
       "  'https://openimage.interpark.com/goods_image/8/4/4/5/5142288445s.jpg',\n",
       "  'http://www.interpark.com/product/MallDisplay.do?_method=detail&sc.prdNo=5142288445&sc.shopNo=0000100000&sc.dispNo=001800001001'],\n",
       " ['ANF 6FREE 플러스 소고기&연어 1.8kg',\n",
       "  'https://openimage.interpark.com/goods_image/7/5/3/0/6038047530s.jpg',\n",
       "  'http://www.interpark.com/product/MallDisplay.do?_method=detail&sc.prdNo=6038047530&sc.shopNo=0000100000&sc.dispNo=001800001001'],\n",
       " ['네츄럴코어 베네 M50 작은알갱이 5kg',\n",
       "  'https://openimage.interpark.com/goods_image/8/5/3/2/5142288532s.jpg',\n",
       "  'http://www.interpark.com/product/MallDisplay.do?_method=detail&sc.prdNo=5142288532&sc.shopNo=0000100000&sc.dispNo=001800001001'],\n",
       " ['GO 고사료 연어 LID 그레인프리 스몰브리드 2.7kg',\n",
       "  'https://openimage.interpark.com/goods_image/3/3/4/8/6850533348s.jpg',\n",
       "  'http://www.interpark.com/product/MallDisplay.do?_method=detail&sc.prdNo=6850533348&sc.shopNo=0000100000&sc.dispNo=001800001001'],\n",
       " ['GO 고 LID 칠면조 그레인프리 9.98kg',\n",
       "  'https://openimage.interpark.com/goods_image/4/7/6/9/5142284769s.jpg',\n",
       "  'http://www.interpark.com/product/MallDisplay.do?_method=detail&sc.prdNo=7146949341&sc.shopNo=0000100000&sc.dispNo=001800001001'],\n",
       " ['내추럴발란스 오리지날 울트라 닭&보리 강아지사료 6.12kg 작은알갱이',\n",
       "  'https://openimage.interpark.com/goods_image/9/8/8/6/7012909886s.jpg',\n",
       "  'http://www.interpark.com/product/MallDisplay.do?_method=detail&sc.prdNo=7012909886&sc.shopNo=0000100000&sc.dispNo=001800001001'],\n",
       " ['ANF 6FREE 플러스 연어&흰살생선 5.6kg',\n",
       "  'https://openimage.interpark.com/goods_image/7/5/2/9/6038047529s.jpg',\n",
       "  'http://www.interpark.com/product/MallDisplay.do?_method=detail&sc.prdNo=8071963316&sc.shopNo=0000100000&sc.dispNo=001800001001'],\n",
       " ['네츄럴코어 에코1 양고기 작은알갱이 35g',\n",
       "  'https://openimage.interpark.com/goods_image/6/8/9/9/5142356899s.jpg',\n",
       "  'http://www.interpark.com/product/MallDisplay.do?_method=detail&sc.prdNo=5142356899&sc.shopNo=0000100000&sc.dispNo=001800001001'],\n",
       " ['GO 고사료 연어 LID 그레인프리 2.72kg',\n",
       "  'https://openimage.interpark.com/goods_image/4/5/8/9/6495244589s.jpg',\n",
       "  'http://www.interpark.com/product/MallDisplay.do?_method=detail&sc.prdNo=6495244589&sc.shopNo=0000100000&sc.dispNo=001800001001'],\n",
       " ['[10원의 체험] [유통기한 22.05.22]어드밴스 독 센시티브 40g',\n",
       "  'https://openimage.interpark.com/goods_image/3/2/9/7/7118433297s.jpg',\n",
       "  'http://www.interpark.com/product/MallDisplay.do?_method=detail&sc.prdNo=7118433297&sc.shopNo=0000100000&sc.dispNo=001800001001'],\n",
       " ['ANF 6FREE 플러스 소고기&연어 5.6kg',\n",
       "  'https://openimage.interpark.com/goods_image/7/5/2/6/6038047526s.jpg',\n",
       "  'http://www.interpark.com/product/MallDisplay.do?_method=detail&sc.prdNo=8128087098&sc.shopNo=0000100000&sc.dispNo=001800001001'],\n",
       " ['웰니스 코어 그레인프리 오션 포뮬라 5.4kg',\n",
       "  'https://openimage.interpark.com/goods_image/3/6/3/1/5142283631s.jpg',\n",
       "  'http://www.interpark.com/product/MallDisplay.do?_method=detail&sc.prdNo=7954797951&sc.shopNo=0000100000&sc.dispNo=001800001001'],\n",
       " ['도그랑 브론즈 강아지사료 5kg',\n",
       "  'https://openimage.interpark.com/goods_image/3/8/0/9/5142303809s.jpg',\n",
       "  'http://www.interpark.com/product/MallDisplay.do?_method=detail&sc.prdNo=5142303809&sc.shopNo=0000100000&sc.dispNo=001800001001'],\n",
       " ['내추럴발란스 LID 고구마 닭고기 포뮬라 6.12kg 작은알갱이',\n",
       "  'https://openimage.interpark.com/goods_image/7/6/3/3/7096187633s.jpg',\n",
       "  'http://www.interpark.com/product/MallDisplay.do?_method=detail&sc.prdNo=7096187633&sc.shopNo=0000100000&sc.dispNo=001800001001']]"
      ]
     },
     "execution_count": 7,
     "metadata": {},
     "output_type": "execute_result"
    }
   ],
   "source": [
    "result"
   ]
  },
  {
   "cell_type": "code",
   "execution_count": 1,
   "metadata": {},
   "outputs": [],
   "source": [
    "result = []"
   ]
  },
  {
   "cell_type": "code",
   "execution_count": 42,
   "metadata": {},
   "outputs": [],
   "source": [
    "column = ['name','image','link']\n",
    "final = pd.DataFrame.from_records( result , columns = column )\n",
    "\n",
    "final\n",
    "final.to_excel(\"interpark_crawl_0104_cat.xlsx\")"
   ]
  },
  {
   "cell_type": "code",
   "execution_count": 8,
   "metadata": {},
   "outputs": [
    {
     "data": {
      "text/plain": [
       "['안녕']"
      ]
     },
     "execution_count": 8,
     "metadata": {},
     "output_type": "execute_result"
    }
   ],
   "source": [
    "a= \"안녕,나는,지상민\"\n",
    "result.append(a.split(',')[0])\n",
    "\n",
    "result\n"
   ]
  }
 ],
 "metadata": {
  "interpreter": {
   "hash": "cf71a6bc6049b8bef4ba42f78bb92433b54a62d68f65b768e5c2169dc44a9df9"
  },
  "kernelspec": {
   "display_name": "Python 3.9.6 64-bit",
   "language": "python",
   "name": "python3"
  },
  "language_info": {
   "codemirror_mode": {
    "name": "ipython",
    "version": 3
   },
   "file_extension": ".py",
   "mimetype": "text/x-python",
   "name": "python",
   "nbconvert_exporter": "python",
   "pygments_lexer": "ipython3",
   "version": "3.9.6"
  },
  "orig_nbformat": 4
 },
 "nbformat": 4,
 "nbformat_minor": 2
}
