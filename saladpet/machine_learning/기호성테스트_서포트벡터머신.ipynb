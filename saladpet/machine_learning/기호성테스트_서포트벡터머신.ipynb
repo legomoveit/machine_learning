{
 "cells": [
  {
   "cell_type": "code",
   "execution_count": 16,
   "metadata": {},
   "outputs": [],
   "source": [
    "import pandas as pd \n",
    "import pymysql \n",
    "import pymysql.cursors\n",
    "import numpy as np\n",
    "from scipy.stats import chisquare\n",
    "from scipy import stats\n",
    "import scipy as sp\n",
    "import statsmodels.api as sm\n",
    "from statsmodels.formula.api import ols, logit, glm\n",
    "import seaborn as sns\n",
    "import numpy as np\n",
    "from sklearn.linear_model import LinearRegression\n",
    "import statsmodels.formula.api as smf\n",
    "import matplotlib.pyplot as plt\n",
    "import matplotlib.font_manager as fm\n",
    "#-------------------------------------\n",
    "from sklearn.neighbors import KNeighborsRegressor\n",
    "#-------------------------------------\n",
    "from sklearn.tree import DecisionTreeRegressor\n",
    "#-------------------------------------\n",
    "from sklearn.preprocessing import StandardScaler\n",
    "#-------------------------------------\n",
    "from sklearn.model_selection import train_test_split\n",
    "#-------------------------------------\n",
    "from imblearn.over_sampling import SMOTE\n",
    "\n",
    "import numpy as np\n",
    "import pandas as pd\n",
    "\n",
    "from sklearn.datasets import make_classification\n",
    "from collections import Counter\n",
    "\n",
    "from matplotlib import pyplot as plt\n",
    "import seaborn as sns\n",
    "\n",
    "from imblearn.under_sampling import RandomUnderSampler\n",
    "from imblearn.over_sampling import RandomOverSampler\n",
    "from imblearn.over_sampling import SMOTE\n",
    "\n",
    "#--------------------------\n",
    "from sklearn.svm import SVR"
   ]
  },
  {
   "cell_type": "code",
   "execution_count": null,
   "metadata": {},
   "outputs": [],
   "source": [
    "import pandas as pd \n",
    "import pymysql \n",
    "import pymysql.cursors\n",
    "import numpy as np\n",
    "from scipy.stats import chisquare\n",
    "from scipy import stats\n",
    "import scipy as sp\n",
    "import statsmodels.api as sm\n",
    "from statsmodels.formula.api import ols, logit, glm\n",
    "import seaborn as sns\n",
    "import numpy as np\n",
    "from sklearn.linear_model import LinearRegression\n",
    "import statsmodels.formula.api as smf\n",
    "import matplotlib.pyplot as plt\n",
    "import matplotlib.font_manager as fm\n",
    "#-------------------------------------\n",
    "from sklearn.neighbors import KNeighborsRegressor\n",
    "#-------------------------------------\n",
    "from sklearn.tree import DecisionTreeRegressor\n",
    "#-------------------------------------\n",
    "from sklearn.preprocessing import StandardScaler\n",
    "#-------------------------------------\n",
    "from sklearn.model_selection import train_test_split\n",
    "#-------------------------------------\n",
    "from imblearn.over_sampling import SMOTE\n",
    "\n",
    "import numpy as np\n",
    "import pandas as pd\n",
    "\n",
    "from sklearn.datasets import make_classification\n",
    "from collections import Counter\n",
    "\n",
    "from matplotlib import pyplot as plt\n",
    "import seaborn as sns\n",
    "\n",
    "from imblearn.under_sampling import RandomUnderSampler\n",
    "from imblearn.over_sampling import RandomOverSampler\n",
    "from imblearn.over_sampling import SMOTE\n",
    "\n",
    "#--------------------------\n",
    "from sklearn.svm import SVR"
   ]
  },
  {
   "cell_type": "code",
   "execution_count": 4,
   "metadata": {},
   "outputs": [],
   "source": [
    "# dog1 = pd.read_excel(\"c:\\import\\gihosung\\dog1_test_result.xlsx\")\n",
    "# dog2 = pd.read_excel(\"c:\\import\\gihosung\\dog2_test_result.xlsx\")\n",
    "#cat_zero = pd.read_excel(\"c:\\import\\gihosung\\cat_zero_test_result.xlsx\")\n",
    "# cat_zero2 = pd.read_excel(\"c:\\import\\gihosung\\cat_zero2_test_result.xlsx\")\n",
    "cat_dongdong = pd.read_excel(\"c:\\import\\gihosung\\s_1_test_result\\cat_dongdong_test_result.xlsx\")"
   ]
  },
  {
   "cell_type": "code",
   "execution_count": 5,
   "metadata": {},
   "outputs": [],
   "source": [
    "df = cat_dongdong\n",
    "\n",
    "x = df[['p_cow' , 'p_chicken' , 'p_fish' , 'p_turkey' , 'p_sheep' ,  'p_salmon' , 'p_tuna'  , 'o_chicken' , 'o_fish' , 'flavor']]\n",
    "y = df[['little_score']]\n",
    "feature_list = ['p_cow' , 'p_chicken' , 'p_fish' , 'p_turkey' , 'p_sheep' ,  'p_salmon' , 'p_tuna'  , 'o_chicken' , 'o_fish' , 'flavor']"
   ]
  },
  {
   "cell_type": "code",
   "execution_count": 19,
   "metadata": {},
   "outputs": [
    {
     "name": "stderr",
     "output_type": "stream",
     "text": [
      "C:\\visual studio\\lib\\site-packages\\sklearn\\utils\\validation.py:993: DataConversionWarning: A column-vector y was passed when a 1d array was expected. Please change the shape of y to (n_samples, ), for example using ravel().\n",
      "  y = column_or_1d(y, warn=True)\n"
     ]
    },
    {
     "data": {
      "text/plain": [
       "-0.20939837529654848"
      ]
     },
     "execution_count": 19,
     "metadata": {},
     "output_type": "execute_result"
    }
   ],
   "source": [
    "model = SVR(C = 10, gamma = 0.01)\n",
    "model.fit(x,y)\n",
    "model.score(x,y)"
   ]
  }
 ],
 "metadata": {
  "interpreter": {
   "hash": "cf71a6bc6049b8bef4ba42f78bb92433b54a62d68f65b768e5c2169dc44a9df9"
  },
  "kernelspec": {
   "display_name": "Python 3.9.6 64-bit",
   "language": "python",
   "name": "python3"
  },
  "language_info": {
   "codemirror_mode": {
    "name": "ipython",
    "version": 3
   },
   "file_extension": ".py",
   "mimetype": "text/x-python",
   "name": "python",
   "nbconvert_exporter": "python",
   "pygments_lexer": "ipython3",
   "version": "3.9.6"
  },
  "orig_nbformat": 4
 },
 "nbformat": 4,
 "nbformat_minor": 2
}
