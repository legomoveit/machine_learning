{
 "cells": [
  {
   "cell_type": "code",
   "execution_count": 3,
   "metadata": {},
   "outputs": [],
   "source": [
    "import time\n",
    "from selenium import webdriver\n",
    "import re\n",
    "import pandas as pd\n",
    "import time, random\n",
    "from selenium import webdriver\n",
    "from selenium.common.exceptions import NoSuchElementException\n",
    "from selenium.webdriver.common.keys import Keys\n",
    "import pandas as pd\n",
    "###\n",
    "\n",
    "import requests\n",
    "from bs4 import BeautifulSoup"
   ]
  },
  {
   "cell_type": "code",
   "execution_count": 20,
   "metadata": {},
   "outputs": [],
   "source": [
    "driver = webdriver.Chrome('./chromedriver95.exe')\n",
    "\n",
    "\n",
    "driver.get(\"https://www.coupang.com/np/categories/445859?page=17\")\n",
    "\n",
    "driver.execute_script(\"window.scrollTo(0, document.body.scrollHeight);\")\n",
    "time.sleep(random.randint(2, 5))\n",
    "\n",
    "\n",
    "\n",
    "페이지함 = driver.find_element_by_css_selector('div[class=\"page-warpper\"]')\n",
    "페이지목록 = 페이지함.find_elements_by_css_selector('a')\n",
    "\n",
    "제품큰박스 = driver.find_elements_by_css_selector('a[class=\"baby-product-link\"]')\n",
    "#time.sleep(random.randint(2, 3))\n",
    "for data in 제품큰박스 :\n",
    "    pree_image = data.find_element_by_css_selector('dt[class=\"image\"]')\n",
    "    pre_image = pree_image.find_element_by_css_selector('img')\n",
    "    image = pre_image.get_attribute(\"src\")\n",
    "    \n",
    "    pre_name = data.find_element_by_css_selector('dd[class=\"descriptions\"]')\n",
    "    name = pre_name.find_element_by_css_selector('div[class=\"name\"]').text\n",
    "    name = str(name).split(',')[0]\n",
    "    \n",
    "    link = data.get_attribute('href')\n",
    "    \n",
    "    pre_result = [name, image, link]\n",
    "    result.append(pre_result)\n",
    "driver.quit()\n",
    "\n",
    "    "
   ]
  },
  {
   "cell_type": "code",
   "execution_count": 1,
   "metadata": {},
   "outputs": [],
   "source": [
    "result = []"
   ]
  },
  {
   "cell_type": "code",
   "execution_count": 42,
   "metadata": {},
   "outputs": [],
   "source": [
    "column = ['name','image','link']\n",
    "final = pd.DataFrame.from_records( result , columns = column )\n",
    "\n",
    "final\n",
    "final.to_excel(\"coupang_crawl_1230_cat.xlsx\")"
   ]
  },
  {
   "cell_type": "code",
   "execution_count": 8,
   "metadata": {},
   "outputs": [
    {
     "data": {
      "text/plain": [
       "['안녕']"
      ]
     },
     "execution_count": 8,
     "metadata": {},
     "output_type": "execute_result"
    }
   ],
   "source": [
    "a= \"안녕,나는,지상민\"\n",
    "result.append(a.split(',')[0])\n",
    "\n",
    "result\n"
   ]
  }
 ],
 "metadata": {
  "interpreter": {
   "hash": "cf71a6bc6049b8bef4ba42f78bb92433b54a62d68f65b768e5c2169dc44a9df9"
  },
  "kernelspec": {
   "display_name": "Python 3.9.6 64-bit",
   "language": "python",
   "name": "python3"
  },
  "language_info": {
   "codemirror_mode": {
    "name": "ipython",
    "version": 3
   },
   "file_extension": ".py",
   "mimetype": "text/x-python",
   "name": "python",
   "nbconvert_exporter": "python",
   "pygments_lexer": "ipython3",
   "version": "3.9.6"
  },
  "orig_nbformat": 4
 },
 "nbformat": 4,
 "nbformat_minor": 2
}
