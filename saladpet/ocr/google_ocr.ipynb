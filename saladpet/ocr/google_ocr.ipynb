{
 "cells": [
  {
   "cell_type": "code",
   "execution_count": 1,
   "metadata": {},
   "outputs": [],
   "source": [
    "import os\n",
    "os.environ[\"GOOGLE_APPLICATION_CREDENTIALS\"]=\"C:\\OCR\\svisionapi-328407-b7831844f6b6.json\""
   ]
  },
  {
   "cell_type": "code",
   "execution_count": 2,
   "metadata": {},
   "outputs": [],
   "source": [
    "import io\n",
    "import os\n",
    "\n",
    "import re \n",
    "import pandas as pd \n",
    "from google.cloud import vision \n",
    "\n",
    "def detect_text(path) :\n",
    "        from google.cloud import vision\n",
    "        import io\n",
    "        BASE_DIR = 'private'\n",
    "        os.environ[\"GOOGLE_APPLICATION_CREDENTIALS\"]=os.path.join(BASE_DIR,\"C:\\OCR\\svisionapi-328407-b7831844f6b6.json\")\n",
    "        client = vision.ImageAnnotatorClient()\n",
    "        with io.open(path, 'rb') as image_file:\n",
    "                content = image_file.read()\n",
    "        image = vision.Image(content=content)\n",
    "        response = client.text_detection(image=image)\n",
    "        texts = response.text_annotations\n",
    "        text_list = list(map(lambda x: x.description, texts))\n",
    "        if response.error.message:\n",
    "                raise Exception(\n",
    "                '{}\\nFor more info on error messages, check: '\n",
    "                'https://cloud.google.com/apis/design/errors'.format(\n",
    "                        response.error.message))\n",
    "        return text_list\n",
    "\n"
   ]
  },
  {
   "cell_type": "code",
   "execution_count": 5,
   "metadata": {},
   "outputs": [],
   "source": [
    "\n",
    "\n",
    "import pandas as pd\n",
    "\n",
    "image_paths = os.listdir(\"C:\\image\") #이미지 들어있는 폴더 이름\n",
    "\n",
    "\n",
    "result = []\n",
    "for i, image_path in enumerate(image_paths) :\n",
    "     number= image_paths[i].replace(\".PNG\",\"\")\n",
    "     number = number.replace(\".png\",\"\")\n",
    "     path = \"C:\\image\\{}\".format(image_paths[i])\n",
    "     \n",
    "    ## 데이터 전차리\n",
    "     a = detect_text(path)[0].replace('\\n','')\n",
    "     a1 = re.sub(r'(\\d+),(\\d*)' , r'\\1\\2', a , count = 0 )\n",
    "     a2 = re.split(r',(?![^()]*\\))', a1 )\n",
    "\n",
    "     for i,d in enumerate(a2) :\n",
    "        a2[i] = a2[i].strip()\n",
    "\n",
    "    ## 리스트 형태로 데이터 준비\n",
    "    \n",
    "     for row,name in enumerate(a2) :\n",
    "        result.append([number, row+1, name])\n",
    "\n",
    "## 리스트들을 데이터프레임으로 변환\n",
    "column = ['product_id','ingred_row','ingred_name']\n",
    "final = pd.DataFrame.from_records( result , columns = column )\n",
    "\n",
    "final\n",
    "final.to_excel(\"211108ingredient.xlsx\")\n",
    "\n",
    "  "
   ]
  },
  {
   "cell_type": "code",
   "execution_count": 28,
   "metadata": {},
   "outputs": [
    {
     "data": {
      "text/plain": [
       "['Fresh chicken meat (16 %)',\n",
       " 'chicken meal (13 %)',\n",
       " 'turkey meal (13 %)',\n",
       " 'red len-tils',\n",
       " 'whole green peas',\n",
       " 'fresh chicken giblets (liver, heart, kidney) (6 %)',\n",
       " 'chicken fat (6 %)',\n",
       " 'fresh eggs (4 %)',\n",
       " 'fresh whole flounder (4 %)',\n",
       " 'herringmeal (3 %)',\n",
       " 'herring oil (3 %)',\n",
       " 'sun-cured alfalfa (2 %)',\n",
       " 'green lentils',\n",
       " 'fieldbeans (2 %)',\n",
       " 'whole yellow peas',\n",
       " 'pea fibre',\n",
       " 'fresh chicken cartilage (2 %)',\n",
       " 'dried brown kelp',\n",
       " 'fresh whole pumpkin',\n",
       " 'fresh whole butternut squash',\n",
       " 'fresh whole parsnips',\n",
       " 'fresh kale',\n",
       " 'fresh spinach',\n",
       " 'fresh mustard greens',\n",
       " 'fresh turnip greens',\n",
       " 'fresh whole carrots',\n",
       " 'fresh apples',\n",
       " 'fresh pears',\n",
       " 'freeze-dried chicken liver',\n",
       " 'freeze-dried turkey liver',\n",
       " 'fresh whole cranber-ries',\n",
       " 'fresh whole blueberries',\n",
       " 'chicory root',\n",
       " 'turmeric',\n",
       " 'milk thistle',\n",
       " 'burdockroot',\n",
       " 'lavender',\n",
       " 'marshmallow root',\n",
       " 'rosehips..tocopherol-rich extract of natural origin.zinc chelate of amino acids hydrate: 100 mgEnterococcus faecium NCIMB10415: 600x1O^6 CFU.']"
      ]
     },
     "execution_count": 28,
     "metadata": {},
     "output_type": "execute_result"
    }
   ],
   "source": [
    "a2 = re.split(r',(?![^()]*\\))', a1 )\n",
    "\n",
    "for i,d in enumerate(a2) :\n",
    "    a2[i] = a2[i].strip()\n",
    "\n",
    "a2\n"
   ]
  }
 ],
 "metadata": {
  "interpreter": {
   "hash": "cf71a6bc6049b8bef4ba42f78bb92433b54a62d68f65b768e5c2169dc44a9df9"
  },
  "kernelspec": {
   "display_name": "Python 3.9.6 64-bit",
   "name": "python3"
  },
  "language_info": {
   "codemirror_mode": {
    "name": "ipython",
    "version": 3
   },
   "file_extension": ".py",
   "mimetype": "text/x-python",
   "name": "python",
   "nbconvert_exporter": "python",
   "pygments_lexer": "ipython3",
   "version": "3.9.6"
  },
  "orig_nbformat": 4
 },
 "nbformat": 4,
 "nbformat_minor": 2
}
