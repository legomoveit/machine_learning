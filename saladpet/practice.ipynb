{
 "cells": [
  {
   "cell_type": "code",
   "execution_count": null,
   "source": [],
   "outputs": [],
   "metadata": {}
  }
 ],
 "metadata": {
  "orig_nbformat": 4,
  "language_info": {
   "name": "python",
   "version": "3.9.6"
  },
  "kernelspec": {
   "name": "python3",
   "display_name": "Python 3.9.6 64-bit"
  },
  "interpreter": {
   "hash": "cf71a6bc6049b8bef4ba42f78bb92433b54a62d68f65b768e5c2169dc44a9df9"
  }
 },
 "nbformat": 4,
 "nbformat_minor": 2
}