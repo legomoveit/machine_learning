{
 "cells": [
  {
   "cell_type": "code",
   "execution_count": 2,
   "metadata": {},
   "outputs": [],
   "source": [
    "import pandas as pd \n",
    "import pymysql \n",
    "import pymysql.cursors\n",
    "import numpy as np\n",
    "from scipy.stats import chisquare\n",
    "from scipy import stats\n",
    "import scipy as sp\n",
    "import statsmodels.api as sm\n",
    "from statsmodels.formula.api import ols, logit, glm\n",
    "import seaborn as sns\n",
    "import numpy as np\n",
    "from sklearn.linear_model import LinearRegression\n",
    "import statsmodels.formula.api as smf\n",
    "import matplotlib.pyplot as plt\n",
    "import matplotlib.font_manager as fm"
   ]
  },
  {
   "cell_type": "code",
   "execution_count": 4,
   "metadata": {},
   "outputs": [],
   "source": [
    "# dog1 = pd.read_excel(\"c:\\import\\gihosung\\dog1_test_result.xlsx\")\n",
    "# dog2 = pd.read_excel(\"c:\\import\\gihosung\\dog2_test_result.xlsx\")\n",
    "# cat_zero = pd.read_excel(\"c:\\import\\gihosung\\cat_zero_test_result.xlsx\")\n",
    "# cat_zero2 = pd.read_excel(\"c:\\import\\gihosung\\cat_zero2_test_result.xlsx\")\n",
    "cat_dongdong = pd.read_excel(\"c:\\import\\gihosung\\s_1_test_result\\cat_dongdong_test_result.xlsx\")"
   ]
  },
  {
   "cell_type": "code",
   "execution_count": 19,
   "metadata": {},
   "outputs": [],
   "source": [
    "x = cat_dongdong[['p_cow' , 'p_chicken' , 'p_fish' , 'p_turkey' , 'p_sheep' ,  'p_salmon' , 'p_tuna'  , 'o_chicken' , 'o_fish' , 'flavor']]\n",
    "y = cat_dongdong[['ox_score']]"
   ]
  },
  {
   "cell_type": "code",
   "execution_count": 30,
   "metadata": {},
   "outputs": [
    {
     "data": {
      "text/html": [
       "<div>\n",
       "<style scoped>\n",
       "    .dataframe tbody tr th:only-of-type {\n",
       "        vertical-align: middle;\n",
       "    }\n",
       "\n",
       "    .dataframe tbody tr th {\n",
       "        vertical-align: top;\n",
       "    }\n",
       "\n",
       "    .dataframe thead th {\n",
       "        text-align: right;\n",
       "    }\n",
       "</style>\n",
       "<table border=\"1\" class=\"dataframe\">\n",
       "  <thead>\n",
       "    <tr style=\"text-align: right;\">\n",
       "      <th></th>\n",
       "      <th>p_cow</th>\n",
       "      <th>p_chicken</th>\n",
       "      <th>p_fish</th>\n",
       "      <th>p_turkey</th>\n",
       "      <th>p_sheep</th>\n",
       "      <th>p_salmon</th>\n",
       "      <th>p_tuna</th>\n",
       "      <th>o_chicken</th>\n",
       "      <th>o_fish</th>\n",
       "      <th>flavor</th>\n",
       "    </tr>\n",
       "  </thead>\n",
       "  <tbody>\n",
       "    <tr>\n",
       "      <th>0</th>\n",
       "      <td>-0.377964</td>\n",
       "      <td>0.881917</td>\n",
       "      <td>-0.67420</td>\n",
       "      <td>-0.577350</td>\n",
       "      <td>-0.377964</td>\n",
       "      <td>-0.577350</td>\n",
       "      <td>-0.258199</td>\n",
       "      <td>-1.133893</td>\n",
       "      <td>-1.133893</td>\n",
       "      <td>1.0</td>\n",
       "    </tr>\n",
       "    <tr>\n",
       "      <th>1</th>\n",
       "      <td>-0.377964</td>\n",
       "      <td>0.881917</td>\n",
       "      <td>1.48324</td>\n",
       "      <td>-0.577350</td>\n",
       "      <td>-0.377964</td>\n",
       "      <td>-0.577350</td>\n",
       "      <td>-0.258199</td>\n",
       "      <td>-1.133893</td>\n",
       "      <td>-1.133893</td>\n",
       "      <td>1.0</td>\n",
       "    </tr>\n",
       "    <tr>\n",
       "      <th>2</th>\n",
       "      <td>-0.377964</td>\n",
       "      <td>-1.133893</td>\n",
       "      <td>-0.67420</td>\n",
       "      <td>-0.577350</td>\n",
       "      <td>2.645751</td>\n",
       "      <td>1.732051</td>\n",
       "      <td>-0.258199</td>\n",
       "      <td>0.881917</td>\n",
       "      <td>0.881917</td>\n",
       "      <td>1.0</td>\n",
       "    </tr>\n",
       "    <tr>\n",
       "      <th>3</th>\n",
       "      <td>-0.377964</td>\n",
       "      <td>-1.133893</td>\n",
       "      <td>1.48324</td>\n",
       "      <td>-0.577350</td>\n",
       "      <td>-0.377964</td>\n",
       "      <td>-0.577350</td>\n",
       "      <td>-0.258199</td>\n",
       "      <td>0.881917</td>\n",
       "      <td>0.881917</td>\n",
       "      <td>1.0</td>\n",
       "    </tr>\n",
       "    <tr>\n",
       "      <th>4</th>\n",
       "      <td>-0.377964</td>\n",
       "      <td>0.881917</td>\n",
       "      <td>-0.67420</td>\n",
       "      <td>1.732051</td>\n",
       "      <td>-0.377964</td>\n",
       "      <td>1.732051</td>\n",
       "      <td>-0.258199</td>\n",
       "      <td>0.881917</td>\n",
       "      <td>0.881917</td>\n",
       "      <td>-1.0</td>\n",
       "    </tr>\n",
       "  </tbody>\n",
       "</table>\n",
       "</div>"
      ],
      "text/plain": [
       "      p_cow  p_chicken   p_fish  p_turkey   p_sheep  p_salmon    p_tuna  \\\n",
       "0 -0.377964   0.881917 -0.67420 -0.577350 -0.377964 -0.577350 -0.258199   \n",
       "1 -0.377964   0.881917  1.48324 -0.577350 -0.377964 -0.577350 -0.258199   \n",
       "2 -0.377964  -1.133893 -0.67420 -0.577350  2.645751  1.732051 -0.258199   \n",
       "3 -0.377964  -1.133893  1.48324 -0.577350 -0.377964 -0.577350 -0.258199   \n",
       "4 -0.377964   0.881917 -0.67420  1.732051 -0.377964  1.732051 -0.258199   \n",
       "\n",
       "   o_chicken    o_fish  flavor  \n",
       "0  -1.133893 -1.133893     1.0  \n",
       "1  -1.133893 -1.133893     1.0  \n",
       "2   0.881917  0.881917     1.0  \n",
       "3   0.881917  0.881917     1.0  \n",
       "4   0.881917  0.881917    -1.0  "
      ]
     },
     "execution_count": 30,
     "metadata": {},
     "output_type": "execute_result"
    }
   ],
   "source": [
    "from sklearn.preprocessing import StandardScaler  # 표준화 패키지 라이브러리\n",
    "\n",
    "x\n",
    "\n",
    "x = StandardScaler().fit_transform(x) # x객체에 x를 표준화한 데이터를 저장\n",
    "features = ['p_cow' , 'p_chicken' , 'p_fish' , 'p_turkey' , 'p_sheep' ,  'p_salmon' , 'p_tuna'  , 'o_chicken' , 'o_fish' , 'flavor']\n",
    "pd.DataFrame(x, columns=features).head()\n",
    "\n",
    "# 지금 변수들의 스케일이 0~1로 모두 동일하기에 굳이 표준화 할 필요 없는것 같음"
   ]
  },
  {
   "cell_type": "code",
   "execution_count": 31,
   "metadata": {},
   "outputs": [
    {
     "data": {
      "text/html": [
       "<div>\n",
       "<style scoped>\n",
       "    .dataframe tbody tr th:only-of-type {\n",
       "        vertical-align: middle;\n",
       "    }\n",
       "\n",
       "    .dataframe tbody tr th {\n",
       "        vertical-align: top;\n",
       "    }\n",
       "\n",
       "    .dataframe thead th {\n",
       "        text-align: right;\n",
       "    }\n",
       "</style>\n",
       "<table border=\"1\" class=\"dataframe\">\n",
       "  <thead>\n",
       "    <tr style=\"text-align: right;\">\n",
       "      <th></th>\n",
       "      <th>pc_ratio</th>\n",
       "    </tr>\n",
       "  </thead>\n",
       "  <tbody>\n",
       "    <tr>\n",
       "      <th>p_cow</th>\n",
       "      <td>2.761754e-01</td>\n",
       "    </tr>\n",
       "    <tr>\n",
       "      <th>p_chicken</th>\n",
       "      <td>1.720873e-01</td>\n",
       "    </tr>\n",
       "    <tr>\n",
       "      <th>p_fish</th>\n",
       "      <td>1.469046e-01</td>\n",
       "    </tr>\n",
       "    <tr>\n",
       "      <th>p_turkey</th>\n",
       "      <td>1.373905e-01</td>\n",
       "    </tr>\n",
       "    <tr>\n",
       "      <th>p_sheep</th>\n",
       "      <td>1.022930e-01</td>\n",
       "    </tr>\n",
       "    <tr>\n",
       "      <th>p_salmon</th>\n",
       "      <td>8.415279e-02</td>\n",
       "    </tr>\n",
       "    <tr>\n",
       "      <th>p_tuna</th>\n",
       "      <td>4.897933e-02</td>\n",
       "    </tr>\n",
       "    <tr>\n",
       "      <th>o_chicken</th>\n",
       "      <td>2.040502e-02</td>\n",
       "    </tr>\n",
       "    <tr>\n",
       "      <th>o_fish</th>\n",
       "      <td>1.161200e-02</td>\n",
       "    </tr>\n",
       "    <tr>\n",
       "      <th>flavor</th>\n",
       "      <td>1.122967e-33</td>\n",
       "    </tr>\n",
       "  </tbody>\n",
       "</table>\n",
       "</div>"
      ],
      "text/plain": [
       "               pc_ratio\n",
       "p_cow      2.761754e-01\n",
       "p_chicken  1.720873e-01\n",
       "p_fish     1.469046e-01\n",
       "p_turkey   1.373905e-01\n",
       "p_sheep    1.022930e-01\n",
       "p_salmon   8.415279e-02\n",
       "p_tuna     4.897933e-02\n",
       "o_chicken  2.040502e-02\n",
       "o_fish     1.161200e-02\n",
       "flavor     1.122967e-33"
      ]
     },
     "execution_count": 31,
     "metadata": {},
     "output_type": "execute_result"
    },
    {
     "data": {
      "image/png": "[encoded data removed]",
      "text/plain": [
       "<Figure size 432x288 with 1 Axes>"
      ]
     },
     "metadata": {},
     "output_type": "display_data"
    }
   ],
   "source": [
    "from sklearn.decomposition import PCA\n",
    "\n",
    "pca = PCA()\n",
    "\n",
    "pca.fit(x)\n",
    "\n",
    "PC_score = pca.transform(x)\n",
    "#x = 독립변수모음\n",
    "\n",
    "# # pca의 eigen_vector\n",
    "# pca.components_\n",
    "\n",
    "# #explained_variacne를 통해서 PC값의 설명력을 확인 할 수 있다.PC값이 클수록 설명력이 높다.\n",
    "# pca.explained_variance_ \n",
    "\n",
    "# # explained_variance 비율로 확인\n",
    "ratio = pca.explained_variance_ratio_ \n",
    "\n",
    "\n",
    "\n",
    "# 설명력 정도 확인\n",
    "df_v = pd.DataFrame(ratio, index = [['p_cow' , 'p_chicken' , 'p_fish' , 'p_turkey' , 'p_sheep' ,  'p_salmon' , 'p_tuna'  , 'o_chicken' , 'o_fish' , 'flavor']], columns=['pc_ratio'])\n",
    "df_v.plot.pie(y='pc_ratio')\n",
    "df_v\n",
    "# 0,1,2,3,4"
   ]
  },
  {
   "cell_type": "code",
   "execution_count": 12,
   "metadata": {},
   "outputs": [
    {
     "data": {
      "image/png": "[encoded data removed]",
      "text/plain": [
       "<Figure size 432x288 with 1 Axes>"
      ]
     },
     "metadata": {
      "needs_background": "light"
     },
     "output_type": "display_data"
    }
   ],
   "source": [
    "ax = plt.plot( ['p_cow' , 'p_chicken' , 'p_fish' , 'p_turkey' , 'p_sheep' ,  'p_salmon' , 'p_tuna'  , 'o_chicken' , 'o_fish' , 'flavor'], ratio)\n",
    "plt.ylabel('Variance(%)')\n",
    "plt.xlabel('Principal Component')\n",
    "plt.title('PCA Plot')\n",
    "plt.show()"
   ]
  },
  {
   "cell_type": "code",
   "execution_count": 13,
   "metadata": {},
   "outputs": [
    {
     "data": {
      "image/png": "[encoded data removed]",
      "text/plain": [
       "<Figure size 432x288 with 1 Axes>"
      ]
     },
     "metadata": {
      "needs_background": "light"
     },
     "output_type": "display_data"
    }
   ],
   "source": [
    "ax = plt.bar(x = range(len(ratio)), height=ratio, tick_label=['p_cow' , 'p_chicken' , 'p_fish' , 'p_turkey' , 'p_sheep' ,  'p_salmon' , 'p_tuna'  , 'o_chicken' , 'o_fish' , 'flavor'])\n",
    "plt.ylabel('Variance(%)')\n",
    "plt.xlabel('Principal Component')\n",
    "plt.title('PCA Plot(bar)')\n",
    "plt.show()\n",
    "\n",
    "\n",
    "# 위 3개의 그래프를 통해 주성분을 5개로 해야겠다는것을 정함"
   ]
  },
  {
   "cell_type": "code",
   "execution_count": 32,
   "metadata": {},
   "outputs": [],
   "source": [
    "pca = PCA(n_components=5) # 주성분을 몇개로 할지 결정\n",
    "printcipalComponents = pca.fit_transform(x)\n",
    "principalDf = pd.DataFrame(data=printcipalComponents, columns = ['PC1', 'PC2','PC3','PC4','PC5'])\n",
    "# 주성분으로 이루어진 데이터 프레임 구성\n",
    "\n",
    "# for index, data in enumerate(cat_dongdong['little_score'].tolist()) : \n",
    "#     principalDf['score'][index = data]\n",
    "    \n",
    "principalDf = principalDf.assign(score = cat_dongdong['little_score'].tolist())\n",
    "\n",
    "df = principalDf"
   ]
  },
  {
   "cell_type": "code",
   "execution_count": 33,
   "metadata": {},
   "outputs": [
    {
     "name": "stdout",
     "output_type": "stream",
     "text": [
      "                            OLS Regression Results                            \n",
      "==============================================================================\n",
      "Dep. Variable:                  score   R-squared:                       0.078\n",
      "Model:                            OLS   Adj. R-squared:                 -0.383\n",
      "Method:                 Least Squares   F-statistic:                    0.1690\n",
      "Date:                Thu, 13 Jan 2022   Prob (F-statistic):              0.968\n",
      "Time:                        15:01:38   Log-Likelihood:                -29.858\n",
      "No. Observations:                  16   AIC:                             71.72\n",
      "Df Residuals:                      10   BIC:                             76.35\n",
      "Df Model:                           5                                         \n",
      "Covariance Type:            nonrobust                                         \n",
      "==============================================================================\n",
      "                 coef    std err          t      P>|t|      [0.025      0.975]\n",
      "------------------------------------------------------------------------------\n",
      "Intercept      2.8125      0.495      5.687      0.000       1.711       3.914\n",
      "PC1            0.1097      0.298      0.368      0.720      -0.553       0.773\n",
      "PC2            0.2311      0.377      0.613      0.554      -0.609       1.071\n",
      "PC3           -0.0983      0.408     -0.241      0.815      -1.007       0.811\n",
      "PC4           -0.1515      0.422     -0.359      0.727      -1.092       0.789\n",
      "PC5            0.1869      0.489      0.382      0.710      -0.903       1.276\n",
      "==============================================================================\n",
      "Omnibus:                        8.794   Durbin-Watson:                   1.943\n",
      "Prob(Omnibus):                  0.012   Jarque-Bera (JB):                1.812\n",
      "Skew:                          -0.114   Prob(JB):                        0.404\n",
      "Kurtosis:                       1.367   Cond. No.                         1.66\n",
      "==============================================================================\n",
      "\n",
      "Notes:\n",
      "[1] Standard Errors assume that the covariance matrix of the errors is correctly specified.\n"
     ]
    },
    {
     "name": "stderr",
     "output_type": "stream",
     "text": [
      "C:\\visual studio\\lib\\site-packages\\scipy\\stats\\stats.py:1541: UserWarning: kurtosistest only valid for n>=20 ... continuing anyway, n=16\n",
      "  warnings.warn(\"kurtosistest only valid for n>=20 ... continuing \"\n"
     ]
    }
   ],
   "source": [
    "model = smf.ols (formula= 'score ~ PC1 + PC2 + PC3 + PC4 + PC5  ',data = df).fit()\n",
    "print(model.summary())"
   ]
  }
 ],
 "metadata": {
  "interpreter": {
   "hash": "cf71a6bc6049b8bef4ba42f78bb92433b54a62d68f65b768e5c2169dc44a9df9"
  },
  "kernelspec": {
   "display_name": "Python 3.9.6 64-bit",
   "language": "python",
   "name": "python3"
  },
  "language_info": {
   "codemirror_mode": {
    "name": "ipython",
    "version": 3
   },
   "file_extension": ".py",
   "mimetype": "text/x-python",
   "name": "python",
   "nbconvert_exporter": "python",
   "pygments_lexer": "ipython3",
   "version": "3.9.6"
  },
  "orig_nbformat": 4
 },
 "nbformat": 4,
 "nbformat_minor": 2
}
