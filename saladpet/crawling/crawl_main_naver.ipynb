{
 "metadata": {
  "language_info": {
   "codemirror_mode": {
    "name": "ipython",
    "version": 3
   },
   "file_extension": ".py",
   "mimetype": "text/x-python",
   "name": "python",
   "nbconvert_exporter": "python",
   "pygments_lexer": "ipython3",
   "version": "3.9.4"
  },
  "orig_nbformat": 2,
  "kernelspec": {
   "name": "python394jvsc74a57bd0aee8b7b246df8f9039afb4144a1f6fd8d2ca17a180786b69acc140d282b71a49",
   "display_name": "Python 3.9.4 64-bit"
  },
  "metadata": {
   "interpreter": {
    "hash": "aee8b7b246df8f9039afb4144a1f6fd8d2ca17a180786b69acc140d282b71a49"
   }
  }
 },
 "nbformat": 4,
 "nbformat_minor": 2,
 "cells": [
  {
   "cell_type": "code",
   "execution_count": 1,
   "metadata": {},
   "outputs": [],
   "source": [
    "import database_connected_naver as dcn\n",
    "from selenium import webdriver\n",
    "import time\n",
    "import random\n",
    "\n",
    "def scroll_down():\n",
    "    last_ele = driver.find_element_by_css_selector('.list_basis > div > div:last-child')\n",
    "    driver.execute_script('arguments[0].scrollIntoView()', last_ele) #java script함수 \n",
    "    return len(driver.find_elements_by_css_selector('.list_basis > div > div')) #java script 함수\n",
    "def scroll_ready():\n",
    "    g_cnt = len(driver.find_elements_by_css_selector('.list_basis > div > div')) #갯수를 센다 (div가 총 몇개인가)\n",
    "    while g_cnt < 80: # 갯수 = 정해진 page size로 구성 or site에서 80으로 변경하거나\n",
    "        g_cnt = scroll_down() #count가 80보다 클 때 까지 돈다. \n",
    "        time.sleep(random.randint(1, 2)) # 1 or 2 중 랜덤하게 가져와서 잠깐 멈추라 \n",
    "def next_page():\n",
    "    try:\n",
    "        driver.find_element_by_css_selector('a[class^=\"pagination_next\"]').click()\n",
    "    except:\n",
    "        return False\n",
    "    time.sleep(random.randint(1, 2))\n",
    "    return True\n",
    "\n",
    "driver = webdriver.Chrome('./chromedriver')\n",
    "driver.get('https://search.shopping.naver.com/search/category?catId=50006678&frm=NVSHMDL&origQuery&pagingIndex=1&pagingSize=80&productSet=model&query&sort=rel&timestamp=&viewType=list') #pagingindex=1이면 1페이지에 멈춰있음. 이 페이지를 변\n",
    "\n",
    "def db_collect():\n",
    "    node_list = driver.find_elements_by_css_selector('.list_basis > div > div')\n",
    "    for node in node_list:\n",
    "        a = node.find_element_by_css_selector('div[class^=\"basicList_price_area\"]')\n",
    "        driver.execute_script('arguments[0].scrollIntoView()', a)\n",
    "        if '광고' not in a.text:\n",
    "            t = node.find_element_by_css_selector('div[class^=\"basicList_title\"] > a')\n",
    "            prod_name = t.get_attribute('title')\n",
    "            prod_name = prod_name.replace(\"'\", \"\")\n",
    "            thumb = ''\n",
    "            try:\n",
    "                thumb_tag = node.find_element_by_css_selector('a[class^=\"thumbnail_thumb\"] > img')\n",
    "                thumb = thumb_tag.get_attribute('src')\n",
    "            except:\n",
    "                print('thumb err', prod_name)\n",
    "            price_temp = a.find_elements_by_css_selector('strong[class^=\"basicList_price\"] > span > span')\n",
    "            if len(price_temp) > 0:\n",
    "                zzim = node.find_element_by_css_selector('button[class^=\"basicList_btn_zzim\"]')\n",
    "                parent_pcode = zzim.get_attribute('data-i')\n",
    "                desc = node.find_element_by_css_selector('div[class^=\"basicList_depth\"]').text\n",
    "                desc += node.find_element_by_css_selector('div[class^=\"basicList_detail_box\"]').text\n",
    "                dcn.push_prod_data_parent({ #dcn의 push_prod_data_parent에 넣어 \n",
    "                     'parent_pcode': parent_pcode,\n",
    "                     'product_name': prod_name,\n",
    "                     'thumb': thumb,\n",
    "                     'product_desc': desc,\n",
    "                    # 'href': 'https://search.shopping.naver.com/catalog/'+parent_pcode,\n",
    "                })\n",
    "# 강아지 : https://search.shopping.naver.com/search/category?catId=50006630&frm=NVSHMDL&origQuery&pagingIndex=1&pagingSize=80&productSet=model&query&sort=rel&timestamp=&viewType=list\n",
    "# 고양이 : https://search.shopping.naver.com/search/category?catId=50006678&frm=NVSHMDL&origQuery&pagingIndex=1&pagingSize=80&productSet=model&query&sort=rel&timestamp=&viewType=list"
   ]
  },
  {
   "cell_type": "code",
   "execution_count": null,
   "metadata": {
    "tags": []
   },
   "outputs": [],
   "source": [
    "go_stop = True\n",
    "cnt = 1\n",
    "while go_stop:\n",
    "    print(cnt)\n",
    "    if cnt == 1:\n",
    "        scroll_ready()\n",
    "    db_collect()\n",
    "    go_stop = next_page() \n",
    "    cnt += 1"
   ]
  },
  {
   "cell_type": "code",
   "execution_count": 2,
   "metadata": {},
   "outputs": [],
   "source": [
    "driver.quit()"
   ]
  },
  {
   "cell_type": "code",
   "execution_count": null,
   "metadata": {},
   "outputs": [],
   "source": [
    "db_collect()"
   ]
  }
 ]
}