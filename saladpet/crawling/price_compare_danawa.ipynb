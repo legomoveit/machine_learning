{
 "cells": [
  {
   "cell_type": "code",
   "execution_count": 2,
   "metadata": {},
   "outputs": [],
   "source": [
    "import time\n",
    "from selenium import webdriver\n",
    "import re\n",
    "import pandas as pd\n",
    "import time, random\n",
    "from selenium import webdriver\n",
    "from selenium.common.exceptions import NoSuchElementException\n",
    "from selenium.webdriver.common.keys import Keys\n",
    "import pandas as pd\n",
    "###\n",
    "\n",
    "import requests\n",
    "from bs4 import BeautifulSoup"
   ]
  },
  {
   "cell_type": "code",
   "execution_count": 4,
   "metadata": {},
   "outputs": [
    {
     "data": {
      "text/plain": [
       "1"
      ]
     },
     "execution_count": 4,
     "metadata": {},
     "output_type": "execute_result"
    }
   ],
   "source": [
    "df = pd.read_excel(\"c:\\import\\sdanawatest.xlsx\")\n",
    "names = df[\"product_name\"].tolist()\n",
    "len(names)"
   ]
  },
  {
   "cell_type": "code",
   "execution_count": 13,
   "metadata": {},
   "outputs": [],
   "source": [
    "result = []\n",
    "#names = ['로얄캐닌 인도어 어덜트']\n",
    "for i, name in enumerate(names) :\n",
    "    \n",
    "    names[i].replace(\" \",\"+\")\n",
    "    driver = webdriver.Chrome('./chromedriver95.exe')\n",
    "    driver.get(\"http://search.danawa.com/dsearch.php?k1={}\".format(names[i]))\n",
    "    try :\n",
    "        pre_price_compare = driver.find_element_by_css_selector('a[class=\"vmTab\"]')\n",
    "        price_compare_number = pre_price_compare.find_element_by_css_selector('span[class=\"qnt\"]').text\n",
    "        price_compare_number = price_compare_number.replace('(','')\n",
    "        price_compare_number = price_compare_number.replace(')','')\n",
    "        compare_number = int(price_compare_number)\n",
    "        \n",
    "        if compare_number >= 1 : #1)가격비교 있는경우\n",
    "            \n",
    "            price_compare_button = driver.find_element_by_css_selector('a[class=\"vmTab\"]') #가격비교탭\n",
    "            price_compare_button.click() #가격비교 탭 클릭\n",
    "            \n",
    "            time.sleep(random.randint(1, 2))\n",
    "            \n",
    "            ### 가격비교이름중에 검색어랑 같은거 있으면 그거클릭\n",
    "            title_list = []\n",
    "            for data in driver.find_elements_by_css_selector('p[class=\"prod_name\"]') :\n",
    "                title_list.append(data.text)\n",
    "                \n",
    "            if name in title_list :\n",
    "                for data in driver.find_elements_by_css_selector('p[class=\"prod_name\"]') :\n",
    "                    if data.text.strip() == name :\n",
    "                        danawa_name = data.text.strip()\n",
    "                        data.click()\n",
    "            else : #가격비교 중 첫번째 링크 클릭 (새로운 창 열기)\n",
    "                first_link_price_compare = driver.find_elements_by_css_selector('p[class=\"prod_name\"]')[0]\n",
    "                danawa_name = first_link_price_compare.text \n",
    "                first_link_price_compare.click() \n",
    "                \n",
    "            driver.switch_to.window(driver.window_handles[1])\n",
    "            time.sleep(random.randint(2, 3))\n",
    "            \n",
    "            pre_pcode = driver.find_element_by_css_selector('li[class=\"item interest \"]')\n",
    "            parent_pcode = pre_pcode.get_attribute('data-productcode')\n",
    "            #danawa_name = driver.find_element_by_css_selector('h3[class=\"prod_tit\"]').text\n",
    "            try :\n",
    "                pre_weight_standard_count = driver.find_elements_by_css_selector('div[class=\"othr_item\"]')\n",
    "                weight_standard_count = len(pre_weight_standard_count)\n",
    "                result.append([df['product_id'][i],name,parent_pcode,danawa_name, weight_standard_count])\n",
    "                \n",
    "            except :\n",
    "                result.append([df['product_id'][i],name,parent_pcode,danawa_name,'1'])\n",
    "            \n",
    "            driver.quit()\n",
    "        #else :\n",
    "            result.append([df['product_id'][i],name,\" \",\" \",\" \"])\n",
    "            driver.quit()\n",
    "    except :\n",
    "        result.append([df['product_id'][i],name,\" \",\" \",\" \"])\n",
    "        driver.quit()"
   ]
  },
  {
   "cell_type": "code",
   "execution_count": 14,
   "metadata": {},
   "outputs": [
    {
     "data": {
      "text/plain": [
       "[[123, '로얄캐닌 인도어 어덜트', ' ', ' ', ' ']]"
      ]
     },
     "execution_count": 14,
     "metadata": {},
     "output_type": "execute_result"
    }
   ],
   "source": [
    "result"
   ]
  },
  {
   "cell_type": "code",
   "execution_count": 16,
   "metadata": {},
   "outputs": [
    {
     "name": "stdout",
     "output_type": "stream",
     "text": [
      "로얄캐닌 캣 인도어\n"
     ]
    }
   ],
   "source": [
    "driver = webdriver.Chrome('./chromedriver95.exe')\n",
    "driver.get(\"http://search.danawa.com/dsearch.php?query=%EB%A1%9C%EC%96%84%EC%BA%90%EB%8B%8C%20%EC%9D%B8%EB%8F%84%EC%96%B4%20%EC%96%B4%EB%8D%9C%ED%8A%B8&originalQuery=%EB%A1%9C%EC%96%84%EC%BA%90%EB%8B%8C%20%EC%9D%B8%EB%8F%84%EC%96%B4%20%EC%96%B4%EB%8D%9C%ED%8A%B8&previousKeyword=%EB%A1%9C%EC%96%84%EC%BA%90%EB%8B%8C%20%EC%9D%B8%EB%8F%84%EC%96%B4&page=1&limit=40&sort=saveDESC&list=list&tab=main\")\n",
    "\n",
    "link_names = driver.find_elements_by_css_selector('p[class=\"prod_name\"]')[0]\n",
    "print(link_names.text)\n",
    "link_names.click()\n",
    "\n",
    "                "
   ]
  },
  {
   "cell_type": "code",
   "execution_count": 21,
   "metadata": {},
   "outputs": [
    {
     "name": "stdout",
     "output_type": "stream",
     "text": [
      "1802668 로얄캐닌 캣 인도어 (4kg)\n"
     ]
    }
   ],
   "source": [
    "driver = webdriver.Chrome('./chromedriver95.exe')\n",
    "driver.get(\"http://prod.danawa.com/info/?pcode=1802668&keyword=%EB%A1%9C%EC%96%84%EC%BA%90%EB%8B%8C+%EC%9D%B8%EB%8F%84%EC%96%B4&cate=19238134\")\n",
    "time.sleep(random.randint(3, 4))\n",
    "parent_pcode = driver.find_element_by_css_selector('li[class=\"item interest \"]').get_attribute('data-productcode')\n",
    "#parent_pcode = pre_pcode[0].get_attribute['data-productcode']\n",
    "danawa_name = driver.find_element_by_css_selector('h3[class=\"prod_tit\"]').text\n",
    "\n",
    "\n",
    "print(parent_pcode, danawa_name)"
   ]
  },
  {
   "cell_type": "code",
   "execution_count": 6,
   "metadata": {},
   "outputs": [],
   "source": [
    "column = ['product_id','product_name','parent_pcode','danawa_name']\n",
    "final = pd.DataFrame.from_records( result , columns = column )\n",
    "\n",
    "final\n",
    "final.to_excel(\"c:\\import\\stest.xlsx\")"
   ]
  },
  {
   "cell_type": "code",
   "execution_count": null,
   "metadata": {},
   "outputs": [],
   "source": [
    "driver = webdriver.Chrome('./chromedriver95.exe')\n",
    "driver.get(\"http://prod.danawa.com/info/?pcode=1802668&keyword=%EB%A1%9C%EC%96%84%EC%BA%90%EB%8B%8C+%EC%9D%B8%EB%8F%84%EC%96%B4&cate=19238134\")\n"
   ]
  }
 ],
 "metadata": {
  "interpreter": {
   "hash": "cf71a6bc6049b8bef4ba42f78bb92433b54a62d68f65b768e5c2169dc44a9df9"
  },
  "kernelspec": {
   "display_name": "Python 3.9.6 64-bit",
   "language": "python",
   "name": "python3"
  },
  "language_info": {
   "codemirror_mode": {
    "name": "ipython",
    "version": 3
   },
   "file_extension": ".py",
   "mimetype": "text/x-python",
   "name": "python",
   "nbconvert_exporter": "python",
   "pygments_lexer": "ipython3",
   "version": "3.9.6"
  },
  "orig_nbformat": 4
 },
 "nbformat": 4,
 "nbformat_minor": 2
}
