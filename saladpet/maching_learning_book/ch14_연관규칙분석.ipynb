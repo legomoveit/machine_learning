{
 "cells": [
  {
   "cell_type": "code",
   "execution_count": null,
   "source": [
    "## 개요\r\n",
    "\r\n",
    "#데이터에 내제되어 있는 아이템 간의 연관관계를 파악하여 고객의 구매형태를 분석\r\n",
    "\r\n",
    "# 두개 이상의 거래나 사건에 포함되어 있는 항목간의 관련성 파악\r\n",
    "\r\n",
    "# 품목 A를 구매하면 품목 B도 구매한다"
   ],
   "outputs": [],
   "metadata": {}
  },
  {
   "cell_type": "code",
   "execution_count": null,
   "source": [
    "# ## 주요 이론\r\n",
    "\r\n",
    "# # 지지도----------------------------------------------------------------------------------\r\n",
    "# 전체 거래 중 해당품목을 포함하는 거래의 비율\r\n",
    "# 품목 A를 포함하는 거래 수 / 전체 거래수\r\n",
    "\r\n",
    "# # 신뢰도\r\n",
    "# 품목 A가 포함된 거래 중 품목 B가 포함될 확률\r\n",
    "# P(BlA) = A와 B를 포함하는 거래수 / A를 포함하는 거래 수\r\n",
    "\r\n",
    "# # 향상도\r\n",
    "# 두품목(A,B이 동시에 구매되는 확률과 후행조건(B)이 독립적으로 구매된 확률 비교\r\n",
    "# >> 도출된 규칙이 우연인지 아닌지 판단\r\n",
    "# p(BlA)/P(B)\r\n",
    "# 1보다 크면 양의 상관관계 1보다 작으면 음의 상관관계\r\n",
    "\r\n",
    "# # Apriori 알고리즘----------------------------------------------------------------------\r\n",
    "# 주어진 거래 이력을 바탕으로 빈발 항복 세트를 생성하고 이를 기반으로 연관규칙을 찾는 알고리즘\r\n",
    "\r\n",
    "# 1. 최소지지도 설정\r\n",
    "# ABCDE 제품 중에 전체거래의 30% 이상 해당하는얘들\r\n",
    "\r\n",
    "# 2. 최소지지도를 바탕으로 빈발항목세트 구성\r\n",
    "# p(BNC) p(ANCND) >>  B,C // A,C,D\r\n",
    "\r\n",
    "# 3. 빈발항목세트를 통해 가능한 후보규칙 생성\r\n",
    "# C>B, B>C, A>CD, C>AD, D>CA\r\n",
    "\r\n",
    "# 4. 도출된 후보규칙들에 대해서 지지도, 신뢰도, 향상도 통해 적합한거 선별"
   ],
   "outputs": [],
   "metadata": {}
  },
  {
   "cell_type": "code",
   "execution_count": null,
   "source": [
    "###### 실습\r\n",
    "\r\n",
    "###  실습 데이터 스키마\r\n",
    "# 고객구매품목이 거래 ID별로 나타나있음\r\n",
    "# 구매품목은 빵, 과일 등 11개의 식품\r\n",
    "# 거래 아이디 별로 구매한 3가지 품목 데이터 존재 (열 : Trans_ID, Product1, Product2, Product3)\r\n",
    "\r\n",
    "#pip install mlxtend\r\n",
    "\r\n",
    "# 1. 변수선택\r\n",
    "df = df.iloc[:,1:]\r\n",
    "\r\n",
    "# 2. 데이터 변환\r\n",
    "df_dummy = pd.get_dummies(df)\r\n",
    "# Product1_Bread, Product1_Fruits, ... 등의 열로 나타나고 0 1 의 값으로 채워짐\r\n",
    "\r\n",
    "# 3. Apriori를 이용한 빈발항목세트 생성\r\n",
    "from mlxtend.frequent_patterns import apriori, association_rules\r\n",
    "frequent_items = apriori(df_dummy, min_suppport = 0.1, use_colnames = True)\r\n",
    "# 최소 지지도 0.1 이상\r\n",
    "\r\n",
    "# 4. 연관규칙 생성\r\n",
    "rules = association_rules(frequent_items, metric = 'confidence', min_threshold = 0.6)\r\n",
    "# 신뢰도 60% 이상인 연관규칙만\r\n",
    "\r\n",
    "# 5. 결과 출력\r\n",
    "rules[['antecedents', 'consequents'. 'support', 'confidence', 'lift']].sort_\r\n",
    "# 순서대로 선행조건, 후행조건, 지지도, 신뢰도, 향상도 임\r\n",
    "values(by = 'lift', ascending = False)"
   ],
   "outputs": [],
   "metadata": {}
  }
 ],
 "metadata": {
  "orig_nbformat": 4,
  "language_info": {
   "name": "python"
  }
 },
 "nbformat": 4,
 "nbformat_minor": 2
}