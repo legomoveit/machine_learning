{
 "cells": [
  {
   "cell_type": "code",
   "execution_count": 4,
   "source": [
    "from PIL import Image\r\n",
    "from pytesseract import *\r\n",
    "# import re\r\n",
    "# import cv2\r\n",
    "\r\n",
    "filename = \"ww.png\"\r\n",
    "config = ('-l kor+eng --oem 3 --psm 4')\r\n",
    "image = Image.open(filename)\r\n",
    "text = pytesseract.image_to_string(image, config = config)\r\n",
    "print(text)"
   ],
   "outputs": [
    {
     "output_type": "stream",
     "name": "stdout",
     "text": [
      "‘Lamb, Lamb Meal, Pea Protein, Peas, Chickpeas, Tomato\n",
      "Pomace, Ground Flaxseed, Canola Oil (preserved with Mixed\n",
      "Tocopherols), Natural Lamb Flavor, Taurine, Vitamin E\n",
      "Supplement, Choline Chioide, Spinach, Broccoli, Carrots,\n",
      "Parsley, Apples, Blueberries, Kale, Zinc Proteinate, Mixed\n",
      "‘Tocopherols added to preserve freshness, Zinc Sulfate, Calcium\n",
      "Carbonate, Niacin, ron Proteinate, Ferrous Sulfate,\n",
      "Glucosamine Hydrochloride, Chondroitin Sulfate, Vitamin A\n",
      "‘Supplement, Copper Sulfate, Thiamine Mononitrate, Copper\n",
      "Proteinate, Manganese Proteinate, Manganese Sulfate,\n",
      "Calcium Pantothenate, Sodium Selenite, Pyridoxine\n",
      "Hydrochloride, Riboflavin, 80800, Chicory Root Extract, Yucca\n",
      "Schidigera Extract, Vitamin D3 Supplement, Calcium lodate,\n",
      "Vitamin 812 Supplement, Folic Acid, Ascorbic Acid (Vitamin C),\n",
      "Dried Lactobacillus plantarum Fermentation Product, Dried\n",
      "Enterococcus faecium Fermentation Product, Dried\n",
      "Lactobacillus casei Fermentation Product, Dried Lactobacillus\n",
      "‘acidophilus Fermentation Product, Rosemary Extract, Green Tea\n",
      "‘Extract, Spearmint Extract.\n",
      "\n",
      "This isa naturally preserved product.\n",
      "\f\n"
     ]
    }
   ],
   "metadata": {}
  },
  {
   "cell_type": "code",
   "execution_count": null,
   "source": [
    "config = ('-l kor+eng --oem 3 --psm 4')\r\n",
    "im = cv2.imread(“Hi.png”)\r\n",
    "cv2.imshow(“ori”,im)\r\n",
    "print (pytesseract.image_to_string(im, config = config))\r\n",
    "print (“========음영처리==========“)\r\n",
    "img_gray = cv2.imread(‘Hi.png’, cv2.IMREAD_GRAYSCALE)\r\n",
    "print (pytesseract.image_to_string(img_gray, config = config))"
   ],
   "outputs": [],
   "metadata": {}
  }
 ],
 "metadata": {
  "orig_nbformat": 4,
  "language_info": {
   "name": "python",
   "version": "3.9.6",
   "mimetype": "text/x-python",
   "codemirror_mode": {
    "name": "ipython",
    "version": 3
   },
   "pygments_lexer": "ipython3",
   "nbconvert_exporter": "python",
   "file_extension": ".py"
  },
  "kernelspec": {
   "name": "python3",
   "display_name": "Python 3.9.6 64-bit"
  },
  "interpreter": {
   "hash": "cf71a6bc6049b8bef4ba42f78bb92433b54a62d68f65b768e5c2169dc44a9df9"
  }
 },
 "nbformat": 4,
 "nbformat_minor": 2
}